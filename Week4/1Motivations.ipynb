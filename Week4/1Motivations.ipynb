{
 "cells": [
  {
   "cell_type": "markdown",
   "metadata": {},
   "source": [
    "# Neural Networks - Motivations"
   ]
  },
  {
   "cell_type": "markdown",
   "metadata": {},
   "source": [
    "The **Neural Network** concept is a pretty old one, but it has gained a lot of attraction in the last decades because of its versatility. In fact, it is the state of the art technique for many differente machine learning problems."
   ]
  },
  {
   "cell_type": "markdown",
   "metadata": {},
   "source": [
    "Why do we need yet another learning algorithm?\n",
    "\n",
    "We already have:\n",
    "\n",
    "- Linear regression;\n",
    "- Logistic regression.\n",
    "\n",
    "Why do we need neural networks?"
   ]
  },
  {
   "cell_type": "markdown",
   "metadata": {},
   "source": [
    "## 1. Non-linear Hypotheses"
   ]
  },
  {
   "cell_type": "markdown",
   "metadata": {},
   "source": [
    "Say we have a classification problem, for which we are given the following training data:"
   ]
  },
  {
   "cell_type": "code",
   "execution_count": 5,
   "metadata": {},
   "outputs": [],
   "source": [
    "# Import libraries\n",
    "from matplotlib import pyplot as plt\n",
    "import pandas as pd\n",
    "import numpy as np\n",
    "%matplotlib inline"
   ]
  },
  {
   "cell_type": "code",
   "execution_count": 9,
   "metadata": {},
   "outputs": [],
   "source": [
    "# Read the data\n",
    "data = pd.read_csv('ex2data1.txt', header=None)\n",
    "X = data.iloc[:, 0:2].values\n",
    "y = data.iloc[:, 2].values\n",
    "y[(X[:, 1] >= X[:, 0] - 10) & (X[:, 1] <= X[:, 0] + 10)] = 0"
   ]
  },
  {
   "cell_type": "code",
   "execution_count": 11,
   "metadata": {},
   "outputs": [
    {
     "data": {
      "text/plain": [
       "<matplotlib.legend.Legend at 0x7f4f829594d0>"
      ]
     },
     "execution_count": 11,
     "metadata": {},
     "output_type": "execute_result"
    },
    {
     "data": {
      "image/png": "[encoded data removed]",
      "text/plain": [
       "<Figure size 432x288 with 1 Axes>"
      ]
     },
     "metadata": {
      "needs_background": "light"
     },
     "output_type": "display_data"
    }
   ],
   "source": [
    "# Plot the data\n",
    "X_pos = X[y == 1, :]\n",
    "X_neg = X[y == 0, :]\n",
    "plt.plot(X_pos[:, 0], X_pos[:, 1], 'bx', ms=5, label='$y=1$')\n",
    "plt.plot(X_neg[:, 0], X_neg[:, 1], 'yo', ms=5, label='$y=0$')\n",
    "plt.ylabel('$x_2$')\n",
    "plt.xlabel('$x_1$')\n",
    "plt.legend(loc='upper left', bbox_to_anchor=(1.05, 1))"
   ]
  },
  {
   "cell_type": "markdown",
   "metadata": {},
   "source": [
    "Clearly, the decision boundary is highly nonlinear in this case. Of course, we could try a poliynomial hypothesis with several nonlinear terms:\n",
    "\n",
    "$$\n",
    "h_{\\theta}(\\boldsymbol{x}) = g(\\theta_0 + \\theta_1 x_1 + \\theta_2 x_2 + \\theta_3 x_1^2 + \\theta_4 x_1x_2 + \\theta_5 x_2^2 + \\theta_6 x_1^3 + \\theta_7 x_1^2 x_2 + \\dots)\n",
    "$$"
   ]
  },
  {
   "cell_type": "markdown",
   "metadata": {},
   "source": [
    "and it could work for this particular case."
   ]
  },
  {
   "cell_type": "markdown",
   "metadata": {},
   "source": [
    "This method works well when we have a small amount of features, say two or three features. However, we may have real scenarios where we have hundreds, even thousands of features, and this method won't be feasible anymore."
   ]
  },
  {
   "cell_type": "markdown",
   "metadata": {},
   "source": [
    "For example, in the house pricing problem, let's assume that we now want to develop a classification mechanism that predicts wether the house will be sold within the next six months or not. We may easily have a hundred features:\n",
    "\n",
    "- $x_1$: size;\n",
    "- $x_2$: # of bedrooms;\n",
    "- $x_3$: # of floors;\n",
    "- $x_4$: age;\n",
    "- $\\vdots$\n",
    "- $x_{100}$: balcony.\n",
    "\n",
    "If for these features we consider a second order polynomial\n",
    "\n",
    "$$\n",
    "x_1^2, x_1 x_2, x_1 x_3, \\dots, x_1 x_{100}, x_2^2, x_2 x_3, \\dots,\n",
    "$$\n",
    "\n",
    "we will end up with approximately $\\sum_{i=0}^{n-1} (n-i) \\approx \\frac{n^2}{2}$ features ($5000$ for $n=100$)."
   ]
  },
  {
   "cell_type": "markdown",
   "metadata": {},
   "source": [
    "Moreover, if we consider higher order polynomials the blow-up in the number of features will be even more dramatic."
   ]
  },
  {
   "cell_type": "markdown",
   "metadata": {},
   "source": [
    "A clear example of a machine learning problem that involves hundreds of features is that of image classification. The cameras encode the images in $s \\times k$ grids of pixels, and each pixel is often used as a feature for the machine learning algorithm.\n",
    "\n",
    "So, for instance, for a low resolution $20 \\times 20$ pixels image in grayscale, the number of features will be $20 \\times 20=400$. If it is encoded in RGB, then we will have $3 \\times 400=1200$ features.\n",
    "\n",
    "Thus, if we were tu use quadratic features, for instance, we will end up with nearly $80000$ features!"
   ]
  },
  {
   "cell_type": "markdown",
   "metadata": {},
   "source": [
    "## 2. Neurons and the Brain"
   ]
  },
  {
   "cell_type": "markdown",
   "metadata": {},
   "source": [
    "Neural Networks are a very old concept that was motivated by the idea of having machines that can mimic the brain."
   ]
  },
  {
   "cell_type": "markdown",
   "metadata": {},
   "source": [
    "They were widely used in the 80s and early 90s, but their popularity diminished in late 90s, mainly due to the lack of efficient optimization techniques and the slow computers we had back then."
   ]
  },
  {
   "cell_type": "markdown",
   "metadata": {},
   "source": [
    "However, there has been a major recent resurgence as state-of-the-art technique for many applications, given that we now have computers fast enough to cope with the computing time requirements."
   ]
  },
  {
   "cell_type": "markdown",
   "metadata": {},
   "source": [
    "**One hypothesis for all applications:** There has been strong evidence given by neuroscientists that have done the following fascinating experiments where you cut the wire from the ears to the auditory cortex and you re-wire,\n",
    "in this case an animal's brain, so that the signal from the eyes to the optic nerve eventually gets routed to the auditory cortex. If you do this it turns out, the auditory cortex will learn to see."
   ]
  },
  {
   "cell_type": "markdown",
   "metadata": {},
   "source": [
    "<script>\n",
    "  $(document).ready(function(){\n",
    "    $('div.prompt').hide();\n",
    "    $('div.back-to-top').hide();\n",
    "    $('nav#menubar').hide();\n",
    "    $('.breadcrumb').hide();\n",
    "    $('.hidden-print').hide();\n",
    "  });\n",
    "</script>\n",
    "\n",
    "<footer id=\"attribution\" style=\"float:right; color:#808080; background:#fff;\">\n",
    "Created with Jupyter by Esteban Jiménez Rodríguez. Based on the content of the Machine Learning course offered through coursera by Prof. Andrew Ng.\n",
    "</footer>"
   ]
  }
 ],
 "metadata": {
  "kernelspec": {
   "display_name": "Python 3",
   "language": "python",
   "name": "python3"
  },
  "language_info": {
   "codemirror_mode": {
    "name": "ipython",
    "version": 3
   },
   "file_extension": ".py",
   "mimetype": "text/x-python",
   "name": "python",
   "nbconvert_exporter": "python",
   "pygments_lexer": "ipython3",
   "version": "3.7.6"
  }
 },
 "nbformat": 4,
 "nbformat_minor": 4
}
