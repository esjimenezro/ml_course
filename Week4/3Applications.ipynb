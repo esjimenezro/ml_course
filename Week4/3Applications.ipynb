{
 "cells": [
  {
   "cell_type": "markdown",
   "metadata": {},
   "source": [
    "# Applications"
   ]
  },
  {
   "cell_type": "markdown",
   "metadata": {},
   "source": [
    "## 1. Examples and Intuitions"
   ]
  },
  {
   "cell_type": "markdown",
   "metadata": {},
   "source": [
    "We will see how a Neural Network can compute a complex nonlinear function of the inputs.\n",
    "\n",
    "We will start with simple examples of boolean functions."
   ]
  },
  {
   "cell_type": "markdown",
   "metadata": {},
   "source": [
    "### Non-linear classification example:  XOR/XNOR\n",
    "\n",
    "Let's consider the binary inputs $x_1$ and $x_2$, and the following examples:"
   ]
  },
  {
   "cell_type": "code",
   "execution_count": 2,
   "metadata": {},
   "outputs": [],
   "source": [
    "# Import libraries\n",
    "from matplotlib import pyplot as plt\n",
    "import pandas as pd\n",
    "import numpy as np\n",
    "%matplotlib inline"
   ]
  },
  {
   "cell_type": "code",
   "execution_count": 5,
   "metadata": {},
   "outputs": [
    {
     "data": {
      "text/plain": [
       "[-0.5, 2, -0.5, 2]"
      ]
     },
     "execution_count": 5,
     "metadata": {},
     "output_type": "execute_result"
    },
    {
     "data": {
      "image/png": "[encoded data removed]",
      "text/plain": [
       "<Figure size 288x288 with 1 Axes>"
      ]
     },
     "metadata": {
      "needs_background": "light"
     },
     "output_type": "display_data"
    }
   ],
   "source": [
    "# Draw linearly separable data\n",
    "plt.figure(figsize=(4, 4))\n",
    "x_p = np.array([[0, 0],\n",
    "                [1, 1]])\n",
    "x_n = np.array([[0, 1],\n",
    "                [1, 0]])\n",
    "plt.plot(x_p[:, 0], x_p[:, 1], 'rx', ms=10)\n",
    "plt.plot(x_n[:, 0], x_n[:, 1], 'bo', ms=10)\n",
    "plt.yticks([0, 1])\n",
    "plt.xticks([0, 1])\n",
    "plt.axhline(y=0, c='g', lw=2)\n",
    "plt.axvline(x=0, c='g', lw=2)\n",
    "plt.xlabel('$x_1$')\n",
    "plt.ylabel('$x_2$')\n",
    "plt.axis([-0.5, 2, -0.5, 2])"
   ]
  },
  {
   "cell_type": "markdown",
   "metadata": {},
   "source": [
    "Analitically,\n",
    "\n",
    "$$\n",
    "y = x_1 \\mathrm{XNOR} x_2.\n",
    "$$"
   ]
  },
  {
   "cell_type": "markdown",
   "metadata": {},
   "source": [
    "Let's start first with linearly separable examples:"
   ]
  },
  {
   "cell_type": "markdown",
   "metadata": {},
   "source": [
    "### Linear classification example:  AND"
   ]
  },
  {
   "cell_type": "markdown",
   "metadata": {},
   "source": [
    "Let's consider again the binary inputs $x_1, x_2\\in\\{0, 1\\}$, and the output $y= x_1 \\mathrm{AND} x_2$."
   ]
  },
  {
   "cell_type": "markdown",
   "metadata": {},
   "source": [
    "![and](figures/logic.png)"
   ]
  },
  {
   "cell_type": "markdown",
   "metadata": {},
   "source": [
    "Let's set $\\Theta^{(1)}_{10}=-30$, $\\Theta^{(1)}_{11}=20$, and $\\Theta^{(1)}_{12}=20$, so that:\n",
    "\n",
    "$$\n",
    "h_{\\Theta}(x) = g(-30 + 20 x_1 + 20 x_2).\n",
    "$$"
   ]
  },
  {
   "cell_type": "markdown",
   "metadata": {},
   "source": [
    "Thus, looking at the truth table\n",
    "\n",
    "| $x_1$ | $x_2$ | $h_{\\Theta}(x)$  |\n",
    "| ----- | ----- | ---------------- |\n",
    "| $0$   | $0$   | $g(-30)\\approx0$ |\n",
    "| $0$   | $1$   | $g(-10)\\approx0$ |\n",
    "| $1$   | $0$   | $g(-10)\\approx0$ |\n",
    "| $1$   | $1$   | $g(10)\\approx1$  |\n",
    "\n",
    "we see that the perceptron neural network can implement the AND function."
   ]
  },
  {
   "cell_type": "markdown",
   "metadata": {},
   "source": [
    "### Linear classification example:  OR"
   ]
  },
  {
   "cell_type": "markdown",
   "metadata": {},
   "source": [
    "Similarly to the above, setting $\\Theta^{(1)}_{10}=-10$, $\\Theta^{(1)}_{11}=20$, and $\\Theta^{(1)}_{12}=20$, so that:\n",
    "\n",
    "$$\n",
    "h_{\\Theta}(x) = g(-10 + 20 x_1 + 20 x_2).\n",
    "$$\n",
    "\n",
    "We can observe that:"
   ]
  },
  {
   "cell_type": "markdown",
   "metadata": {},
   "source": [
    "| $x_1$ | $x_2$ | $h_{\\Theta}(x)$  |\n",
    "| ----- | ----- | ---------------- |\n",
    "| $0$   | $0$   | $g(-10)\\approx0$ |\n",
    "| $0$   | $1$   | $g(10)\\approx1$  |\n",
    "| $1$   | $0$   | $g(10)\\approx1$  |\n",
    "| $1$   | $1$   | $g(30)\\approx1$  |\n",
    "\n",
    "it corresponds to the OR function."
   ]
  },
  {
   "cell_type": "markdown",
   "metadata": {},
   "source": [
    "### Linear classification example:  NOT"
   ]
  },
  {
   "cell_type": "markdown",
   "metadata": {},
   "source": [
    "![not](figures/not.png)"
   ]
  },
  {
   "cell_type": "markdown",
   "metadata": {},
   "source": [
    "Setting $\\Theta^{(1)}_{10}=10$, $\\Theta^{(1)}_{11}=-20$, so that:\n",
    "\n",
    "$$\n",
    "h_{\\Theta}(x) = g(10 - 20 x_1).\n",
    "$$\n",
    "\n",
    "We can observe that:"
   ]
  },
  {
   "cell_type": "markdown",
   "metadata": {},
   "source": [
    "| $x_1$ | $h_{\\Theta}(x)$  |\n",
    "| ----- | ---------------- |\n",
    "| $0$   | $g(10)\\approx1$  |\n",
    "| $1$   | $g(-10)\\approx0$ |\n",
    "\n",
    "it corresponds to the NOT function."
   ]
  },
  {
   "cell_type": "markdown",
   "metadata": {},
   "source": [
    "### Putting it together $x_1$ XNOR $x_2$\n",
    "\n",
    "Logically, $x_1 \\mathrm{XNOR} x_2 = (x_1 \\mathrm{AND} x_2) \\mathrm{OR} ((\\mathrm{NOT} x_1) \\mathrm{AND} (\\mathrm{NOT} x_2))$."
   ]
  },
  {
   "cell_type": "markdown",
   "metadata": {},
   "source": [
    "Thus, the network,\n",
    "\n",
    "![xnor](figures/logic_xor.png)\n",
    "\n",
    "with $\\Theta^{(1)}_{10}=-30$, $\\Theta^{(1)}_{11}=20$, $\\Theta^{(1)}_{12}=20$, $\\Theta^{(1)}_{20}=10$, $\\Theta^{(1)}_{21}=-20$, $\\Theta^{(1)}_{22}=-20$, and $\\Theta^{(2)}_{10}=-10$, $\\Theta^{(2)}_{11}=20$, and $\\Theta^{(2)}_{12}=20$, we get:"
   ]
  },
  {
   "cell_type": "markdown",
   "metadata": {},
   "source": [
    "| $x_1$ | $x_2$ | $a^{(2)}_1$ | $a^{(2)}_2$ | $h_{\\Theta}(x)$ |\n",
    "| ----- | ----- | ----------- | ----------- | --------------- |\n",
    "| $0$   | $0$   | $0$         | $1$         | $1$             |\n",
    "| $0$   | $1$   | $0$         | $0$         | $0$             |\n",
    "| $1$   | $0$   | $0$         | $0$         | $0$             |\n",
    "| $1$   | $1$   | $1$         | $0$         | $1$             |\n",
    "\n",
    "which corresponds to the XNOR function."
   ]
  },
  {
   "cell_type": "markdown",
   "metadata": {},
   "source": [
    "<script>\n",
    "  $(document).ready(function(){\n",
    "    $('div.prompt').hide();\n",
    "    $('div.back-to-top').hide();\n",
    "    $('nav#menubar').hide();\n",
    "    $('.breadcrumb').hide();\n",
    "    $('.hidden-print').hide();\n",
    "  });\n",
    "</script>\n",
    "\n",
    "<footer id=\"attribution\" style=\"float:right; color:#808080; background:#fff;\">\n",
    "Created with Jupyter by Esteban Jiménez Rodríguez. Based on the content of the Machine Learning course offered through coursera by Prof. Andrew Ng.\n",
    "</footer>"
   ]
  }
 ],
 "metadata": {
  "kernelspec": {
   "display_name": "Python 3",
   "language": "python",
   "name": "python3"
  },
  "language_info": {
   "codemirror_mode": {
    "name": "ipython",
    "version": 3
   },
   "file_extension": ".py",
   "mimetype": "text/x-python",
   "name": "python",
   "nbconvert_exporter": "python",
   "pygments_lexer": "ipython3",
   "version": "3.7.6"
  }
 },
 "nbformat": 4,
 "nbformat_minor": 4
}
