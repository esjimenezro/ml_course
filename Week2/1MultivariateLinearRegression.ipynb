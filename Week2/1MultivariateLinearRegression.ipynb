{
 "cells": [
  {
   "cell_type": "markdown",
   "metadata": {},
   "source": [
    "# Multivariate Linear Regression"
   ]
  },
  {
   "cell_type": "markdown",
   "metadata": {},
   "source": [
    "## 1. Multiple Features"
   ]
  },
  {
   "cell_type": "markdown",
   "metadata": {},
   "source": [
    "Now we turn our attention to a new version of linear regression which is more powerful due to its ability to work with multiple variables/features."
   ]
  },
  {
   "cell_type": "markdown",
   "metadata": {},
   "source": [
    "For instance, in our previous example of Portland house pricing we had:"
   ]
  },
  {
   "cell_type": "code",
   "execution_count": 1,
   "metadata": {},
   "outputs": [],
   "source": [
    "# Import libraries\n",
    "import pandas as pd"
   ]
  },
  {
   "cell_type": "code",
   "execution_count": 2,
   "metadata": {},
   "outputs": [],
   "source": [
    "# Read the data\n",
    "data = pd.read_csv(\"house_pricing.csv\", low_memory=False)"
   ]
  },
  {
   "cell_type": "code",
   "execution_count": 3,
   "metadata": {},
   "outputs": [
    {
     "data": {
      "text/html": [
       "<div>\n",
       "<style scoped>\n",
       "    .dataframe tbody tr th:only-of-type {\n",
       "        vertical-align: middle;\n",
       "    }\n",
       "\n",
       "    .dataframe tbody tr th {\n",
       "        vertical-align: top;\n",
       "    }\n",
       "\n",
       "    .dataframe thead th {\n",
       "        text-align: right;\n",
       "    }\n",
       "</style>\n",
       "<table border=\"1\" class=\"dataframe\">\n",
       "  <thead>\n",
       "    <tr style=\"text-align: right;\">\n",
       "      <th></th>\n",
       "      <th>size</th>\n",
       "      <th>price</th>\n",
       "    </tr>\n",
       "  </thead>\n",
       "  <tbody>\n",
       "    <tr>\n",
       "      <th>0</th>\n",
       "      <td>2104</td>\n",
       "      <td>399900</td>\n",
       "    </tr>\n",
       "    <tr>\n",
       "      <th>1</th>\n",
       "      <td>1600</td>\n",
       "      <td>329900</td>\n",
       "    </tr>\n",
       "    <tr>\n",
       "      <th>2</th>\n",
       "      <td>2400</td>\n",
       "      <td>369000</td>\n",
       "    </tr>\n",
       "    <tr>\n",
       "      <th>3</th>\n",
       "      <td>1416</td>\n",
       "      <td>232000</td>\n",
       "    </tr>\n",
       "    <tr>\n",
       "      <th>4</th>\n",
       "      <td>3000</td>\n",
       "      <td>539900</td>\n",
       "    </tr>\n",
       "  </tbody>\n",
       "</table>\n",
       "</div>"
      ],
      "text/plain": [
       "   size   price\n",
       "0  2104  399900\n",
       "1  1600  329900\n",
       "2  2400  369000\n",
       "3  1416  232000\n",
       "4  3000  539900"
      ]
     },
     "execution_count": 3,
     "metadata": {},
     "output_type": "execute_result"
    }
   ],
   "source": [
    "# Show data\n",
    "data[['size', 'price']].head()"
   ]
  },
  {
   "cell_type": "markdown",
   "metadata": {},
   "source": [
    "... a single feature $x$, namely the size of the houses in $ft^2$, and we wanted to use it to predict $y$, the price of the house in USD. \n",
    "\n",
    "With this, the form of our hypothesis was:\n",
    "\n",
    "$$h_{\\theta}(x) = \\theta_0 + \\theta_1 x.$$"
   ]
  },
  {
   "cell_type": "markdown",
   "metadata": {},
   "source": [
    "Now, it is easy to imagine that we won't only have the size of the house available, but also the number of bedrooms, the number of floors, the number of car spaces, the number of bathrooms, the age of the house, among others, and our data would look like:"
   ]
  },
  {
   "cell_type": "code",
   "execution_count": 4,
   "metadata": {},
   "outputs": [
    {
     "data": {
      "text/html": [
       "<div>\n",
       "<style scoped>\n",
       "    .dataframe tbody tr th:only-of-type {\n",
       "        vertical-align: middle;\n",
       "    }\n",
       "\n",
       "    .dataframe tbody tr th {\n",
       "        vertical-align: top;\n",
       "    }\n",
       "\n",
       "    .dataframe thead th {\n",
       "        text-align: right;\n",
       "    }\n",
       "</style>\n",
       "<table border=\"1\" class=\"dataframe\">\n",
       "  <thead>\n",
       "    <tr style=\"text-align: right;\">\n",
       "      <th></th>\n",
       "      <th>size</th>\n",
       "      <th>n_bedrooms</th>\n",
       "      <th>price</th>\n",
       "    </tr>\n",
       "  </thead>\n",
       "  <tbody>\n",
       "    <tr>\n",
       "      <th>0</th>\n",
       "      <td>2104</td>\n",
       "      <td>3</td>\n",
       "      <td>399900</td>\n",
       "    </tr>\n",
       "    <tr>\n",
       "      <th>1</th>\n",
       "      <td>1600</td>\n",
       "      <td>3</td>\n",
       "      <td>329900</td>\n",
       "    </tr>\n",
       "    <tr>\n",
       "      <th>2</th>\n",
       "      <td>2400</td>\n",
       "      <td>3</td>\n",
       "      <td>369000</td>\n",
       "    </tr>\n",
       "    <tr>\n",
       "      <th>3</th>\n",
       "      <td>1416</td>\n",
       "      <td>2</td>\n",
       "      <td>232000</td>\n",
       "    </tr>\n",
       "    <tr>\n",
       "      <th>4</th>\n",
       "      <td>3000</td>\n",
       "      <td>4</td>\n",
       "      <td>539900</td>\n",
       "    </tr>\n",
       "  </tbody>\n",
       "</table>\n",
       "</div>"
      ],
      "text/plain": [
       "   size  n_bedrooms   price\n",
       "0  2104           3  399900\n",
       "1  1600           3  329900\n",
       "2  2400           3  369000\n",
       "3  1416           2  232000\n",
       "4  3000           4  539900"
      ]
     },
     "execution_count": 4,
     "metadata": {},
     "output_type": "execute_result"
    }
   ],
   "source": [
    "data.head()"
   ]
  },
  {
   "cell_type": "markdown",
   "metadata": {},
   "source": [
    "These additional features give us much more information in our target of predicting the price."
   ]
  },
  {
   "cell_type": "markdown",
   "metadata": {},
   "source": [
    "Let's define some notation:\n",
    "\n",
    "- $m$: Number of training examples.\n",
    "- $n$: Number of input variables/features.\n",
    "- $\\boldsymbol{x}=\\left[x_1, \\dots, x_n\\right]^T\\in\\mathbb{R}^n$: \"Input\" variables/features.\n",
    "- $x_j, \\quad j=1,2,\\dots,n$: $j-th$ input variable/feature.\n",
    "- $y$: \"Output\" variable/\"target\" variable.\n",
    "- $\\boldsymbol{x}^{(i)}$: Input (features) of $i-$th training example.\n",
    "- $\\boldsymbol{x}^{(i)}_j$: Value of feature $j$ in $i-$th training example. "
   ]
  },
  {
   "cell_type": "markdown",
   "metadata": {},
   "source": [
    "For instance, in the above data we may define $x_1$ as the house size, and $x_2$ as the number of bedrooms. In this sense:\n",
    "\n",
    "- $n=2$ is the number of input features.\n",
    "\n",
    "- The fourth training example is:\n",
    "  $$\n",
    "  x^{(4)} = \\left[\n",
    "  \\begin{array}{c}\n",
    "  1416 \\\\\n",
    "  2\n",
    "  \\end{array}\n",
    "  \\right]\\in\\mathbb{R}^{2}.\n",
    "  $$\n",
    "    \n",
    "- The value of the second feature in the fourth training example:\n",
    "  $$x^{(4)}_2 = 2.$$"
   ]
  },
  {
   "cell_type": "markdown",
   "metadata": {},
   "source": [
    "Now that we have **multiple features**, the form of our hypothesis turns into:\n",
    "\n",
    "$$\n",
    "h_{\\theta}(\\boldsymbol{x}) = \\theta_0 + \\theta_1 x_1 + \\dots + \\theta_n x_n.\n",
    "$$"
   ]
  },
  {
   "cell_type": "markdown",
   "metadata": {},
   "source": [
    "If we conveniently define a $0$ feature: $x_0 = 1$ ($x^{(i)}_0=1$ for all $i\\in\\{1, \\dots, m\\}$), the new feature vector $\\boldsymbol{x}$ takes the form:\n",
    "\n",
    "$$\n",
    "\\boldsymbol{x}=\\left[\n",
    "\\begin{array}{c}\n",
    "x_0 \\\\\n",
    "x_1 \\\\\n",
    "\\vdots \\\\\n",
    "x_n\n",
    "\\end{array}\n",
    "\\right]\\in\\mathbb{R}^{n+1}\n",
    "$$\n",
    "\n",
    "as well as the parameter vector $\\boldsymbol{\\theta}$:\n",
    "\n",
    "$$\n",
    "\\boldsymbol{\\theta}=\\left[\n",
    "\\begin{array}{c}\n",
    "\\theta_0 \\\\\n",
    "\\theta_1 \\\\\n",
    "\\vdots \\\\\n",
    "\\theta_n\n",
    "\\end{array}\n",
    "\\right]\\in\\mathbb{R}^{n+1}\n",
    "$$"
   ]
  },
  {
   "cell_type": "markdown",
   "metadata": {},
   "source": [
    "Taking these into account, we can rewrite the hypothesis function as:\n",
    "\n",
    "\\begin{align}\n",
    "h_{\\theta}(\\boldsymbol{x}) & = \\theta_0 x_0 + \\theta_1 x_1 + \\dots + \\theta_n x_n \\\\\n",
    "                           & = \\boldsymbol{x}^T \\boldsymbol{\\theta} \\\\\n",
    "                           & = \\boldsymbol{\\theta}^T \\boldsymbol{x}\n",
    "\\end{align}"
   ]
  },
  {
   "cell_type": "markdown",
   "metadata": {},
   "source": [
    "## 2. Gradient Descent for Multiple Variables"
   ]
  },
  {
   "cell_type": "markdown",
   "metadata": {},
   "source": [
    "With the above notation for the hypothesis function, we can define the cost function for multivariate linear regression in the same way we defined it for univariate linear regression:"
   ]
  },
  {
   "cell_type": "markdown",
   "metadata": {},
   "source": [
    "$$\n",
    "J(\\boldsymbol{\\theta}) = \\frac{1}{2m}\\sum_{i=1}^{m}(h_{\\theta}(\\boldsymbol{x}^{(i)}) - y^{(i)})^2,\n",
    "$$"
   ]
  },
  {
   "cell_type": "markdown",
   "metadata": {},
   "source": [
    "where the parameter vector $\\boldsymbol{\\theta}$ is the $n+1$ dimensional vector:\n",
    "\n",
    "$$\n",
    "\\boldsymbol{\\theta}=\\left[\n",
    "\\begin{array}{c}\n",
    "\\theta_0 \\\\\n",
    "\\theta_1 \\\\\n",
    "\\vdots \\\\\n",
    "\\theta_n\n",
    "\\end{array}\n",
    "\\right]\\in\\mathbb{R}^{n+1}\n",
    "$$"
   ]
  },
  {
   "cell_type": "markdown",
   "metadata": {},
   "source": [
    "Equivalently, considering a matrix of all the training examples $\\boldsymbol{X}$:\n",
    "\n",
    "$$\n",
    "\\boldsymbol{X} = \\left[\n",
    "\\begin{array}{c}\n",
    "\\boldsymbol{x}^{(1)} \\ ^T \\\\\n",
    "\\boldsymbol{x}^{(2)} \\ ^T \\\\\n",
    "\\vdots                    \\\\\n",
    "\\boldsymbol{x}^{(n)} \\ ^T\n",
    "\\end{array}\n",
    "\\right] = \\left[\n",
    "\\begin{array}{ccccc}\n",
    "x_0^{(1)} & x_1^{(1)} & x_2^{(1)} & \\dots  & x_n^{(1)} \\\\\n",
    "x_0^{(2)} & x_1^{(2)} & x_2^{(2)} & \\dots  & x_n^{(2)} \\\\\n",
    "\\vdots    & \\vdots    & \\vdots    & \\ddots & \\vdots    \\\\\n",
    "x_0^{(m)} & x_1^{(m)} & x_2^{(m)} & \\dots  & x_n^{(m)}\n",
    "\\end{array}\n",
    "\\right] = \\left[\n",
    "\\begin{array}{ccccc}\n",
    "1         & x_1^{(1)} & x_2^{(1)} & \\dots  & x_n^{(1)} \\\\\n",
    "1         & x_1^{(2)} & x_2^{(2)} & \\dots  & x_n^{(2)} \\\\\n",
    "\\vdots    & \\vdots    & \\vdots    & \\ddots & \\vdots    \\\\\n",
    "1         & x_1^{(m)} & x_2^{(m)} & \\dots  & x_n^{(m)}\n",
    "\\end{array}\n",
    "\\right] \\in \\mathbb{R}^{m \\times (n+1)}\n",
    "$$\n",
    "\n",
    "The cost function can be rewritten as:\n",
    "\n",
    "$$\n",
    "J(\\boldsymbol{\\theta}) = \\frac{1}{2m}\\sum_{i=1}^{m}(\\boldsymbol{x}^{(i)} \\ ^T \\boldsymbol{\\theta} - y^{(i)})^2 = \\frac{1}{2m}\\left\\lvert\\left\\lvert\\boldsymbol{X}\\boldsymbol{\\theta} - \\boldsymbol{y}\\right\\rvert\\right\\rvert^2,\n",
    "$$"
   ]
  },
  {
   "cell_type": "markdown",
   "metadata": {},
   "source": [
    "Moreover, the gradient descent algorithm takes the same form:"
   ]
  },
  {
   "cell_type": "markdown",
   "metadata": {},
   "source": [
    "- Initialize $\\theta_j$, for $j\\in\\{0, 1,\\dots, n\\}$.\n",
    "\n",
    "- repeat until convergence {\n",
    "  $$\\theta_j := \\theta_j - \\alpha \\frac{\\partial}{\\partial \\theta_j} J(\\boldsymbol{\\theta}); \\qquad \\text{ for } j\\in\\{0, 1,\\dots, n\\}$$\n",
    "  }\n",
    "  \n",
    "where:\n",
    "\n",
    "\\begin{align}\n",
    "\\frac{\\partial}{\\partial \\theta_j} J(\\boldsymbol{\\theta}) & = \\frac{1}{m}\\sum_{i=1}^{m}\\left(h_{\\theta}(\\boldsymbol{x}^{(i)})-y^{(i)}\\right)x_j^{(i)} \\qquad \\text{ for } j\\in\\{0, 1,\\dots, n\\}\n",
    "\\end{align}"
   ]
  },
  {
   "cell_type": "markdown",
   "metadata": {},
   "source": [
    "Or, in a vector form:\n",
    "\n",
    "- Initialize $\\boldsymbol{\\theta}$.\n",
    "\n",
    "- repeat until convergence {\n",
    "  $$\\boldsymbol{\\theta} := \\boldsymbol{\\theta} - \\alpha \\frac{\\partial}{\\partial \\boldsymbol{\\theta}} J(\\boldsymbol{\\theta})$$\n",
    "  }\n",
    "  \n",
    "where $\\frac{\\partial}{\\partial \\boldsymbol{\\theta}} J(\\boldsymbol{\\theta})$ is the gradient of the function $J$:\n",
    "\n",
    "$$\n",
    "\\frac{\\partial}{\\partial \\boldsymbol{\\theta}} J(\\boldsymbol{\\theta}) = \\frac{1}{m}\\left[\n",
    "\\begin{array}{c}\n",
    "\\sum_{i=1}^{m}\\left(h_{\\theta}(\\boldsymbol{x}^{(i)})-y^{(i)}\\right)x_0^{(i)} \\\\\n",
    "\\sum_{i=1}^{m}\\left(h_{\\theta}(\\boldsymbol{x}^{(i)})-y^{(i)}\\right)x_1^{(i)} \\\\\n",
    "\\vdots \\\\\n",
    "\\sum_{i=1}^{m}\\left(h_{\\theta}(\\boldsymbol{x}^{(i)})-y^{(i)}\\right)x_n^{(i)}\n",
    "\\end{array}\n",
    "\\right] = \\frac{1}{m} \\boldsymbol{X}^T (\\boldsymbol{X}\\boldsymbol{\\theta} - \\boldsymbol{y})\\in\\mathbb{R}^{n+1}.\n",
    "$$"
   ]
  },
  {
   "cell_type": "markdown",
   "metadata": {},
   "source": [
    "### 2.1. Feature scaling\n",
    "\n",
    "One problem that appears when we have multiple features, is that each one of the is in a different scale probably.\n",
    "\n",
    "For instance in our example:"
   ]
  },
  {
   "cell_type": "code",
   "execution_count": 5,
   "metadata": {},
   "outputs": [
    {
     "data": {
      "text/html": [
       "<div>\n",
       "<style scoped>\n",
       "    .dataframe tbody tr th:only-of-type {\n",
       "        vertical-align: middle;\n",
       "    }\n",
       "\n",
       "    .dataframe tbody tr th {\n",
       "        vertical-align: top;\n",
       "    }\n",
       "\n",
       "    .dataframe thead th {\n",
       "        text-align: right;\n",
       "    }\n",
       "</style>\n",
       "<table border=\"1\" class=\"dataframe\">\n",
       "  <thead>\n",
       "    <tr style=\"text-align: right;\">\n",
       "      <th></th>\n",
       "      <th>size</th>\n",
       "      <th>n_bedrooms</th>\n",
       "      <th>price</th>\n",
       "    </tr>\n",
       "  </thead>\n",
       "  <tbody>\n",
       "    <tr>\n",
       "      <th>0</th>\n",
       "      <td>2104</td>\n",
       "      <td>3</td>\n",
       "      <td>399900</td>\n",
       "    </tr>\n",
       "    <tr>\n",
       "      <th>1</th>\n",
       "      <td>1600</td>\n",
       "      <td>3</td>\n",
       "      <td>329900</td>\n",
       "    </tr>\n",
       "    <tr>\n",
       "      <th>2</th>\n",
       "      <td>2400</td>\n",
       "      <td>3</td>\n",
       "      <td>369000</td>\n",
       "    </tr>\n",
       "    <tr>\n",
       "      <th>3</th>\n",
       "      <td>1416</td>\n",
       "      <td>2</td>\n",
       "      <td>232000</td>\n",
       "    </tr>\n",
       "    <tr>\n",
       "      <th>4</th>\n",
       "      <td>3000</td>\n",
       "      <td>4</td>\n",
       "      <td>539900</td>\n",
       "    </tr>\n",
       "  </tbody>\n",
       "</table>\n",
       "</div>"
      ],
      "text/plain": [
       "   size  n_bedrooms   price\n",
       "0  2104           3  399900\n",
       "1  1600           3  329900\n",
       "2  2400           3  369000\n",
       "3  1416           2  232000\n",
       "4  3000           4  539900"
      ]
     },
     "execution_count": 5,
     "metadata": {},
     "output_type": "execute_result"
    }
   ],
   "source": [
    "data.head()"
   ]
  },
  {
   "cell_type": "code",
   "execution_count": 6,
   "metadata": {},
   "outputs": [
    {
     "data": {
      "text/plain": [
       "(852, 4478)"
      ]
     },
     "execution_count": 6,
     "metadata": {},
     "output_type": "execute_result"
    }
   ],
   "source": [
    "# x_1 feature range\n",
    "data['size'].min(), data['size'].max()"
   ]
  },
  {
   "cell_type": "code",
   "execution_count": 7,
   "metadata": {},
   "outputs": [
    {
     "data": {
      "text/plain": [
       "(1, 5)"
      ]
     },
     "execution_count": 7,
     "metadata": {},
     "output_type": "execute_result"
    }
   ],
   "source": [
    "# x_1 feature range\n",
    "data['n_bedrooms'].min(), data['n_bedrooms'].max()"
   ]
  },
  {
   "cell_type": "markdown",
   "metadata": {},
   "source": [
    "- The $x_1$ feature (size) varies in the range $0 - 4500$ $ft^2$.\n",
    "- The $x_2$ feature (number of bedrooms) varies in the range $1 - 5$."
   ]
  },
  {
   "cell_type": "markdown",
   "metadata": {},
   "source": [
    "A good idea is to **scale** these features so that they vary within similar ranges. Following this idea, the gradient descent algorithm can converge more quikcly."
   ]
  },
  {
   "cell_type": "markdown",
   "metadata": {},
   "source": [
    "Concretely, we may select instead of the above features:\n",
    "\n",
    "- $x_1 = \\frac{\\text{size }(ft^2)}{5000}$\n",
    "- $x_2 = \\frac{\\text{number of bedrooms}}{5}$\n",
    "\n",
    "so that $0 \\leq x_1 \\leq 1$ and $0 \\leq x_2 \\leq 1$."
   ]
  },
  {
   "cell_type": "markdown",
   "metadata": {},
   "source": [
    "In general, a feature scaling approach consists on getting every feature into approximately a $-1 \\leq x_i \\leq 1$ range ($i\\in\\{1, \\dots, n\\}$; the feature $x_0=1$ is excluded)."
   ]
  },
  {
   "cell_type": "markdown",
   "metadata": {},
   "source": [
    "One way to do this is:\n",
    "\n",
    "1. **Mean normalization:** Replace each feature $x_i$ with $x_i - \\mu_i$ to make features have approximately zero mean (do not apply to $x_0=1$).\n",
    "\n",
    "2. **Scale:** After the mean normalization, the next step is to scale the resulting feature according to some factor (the span of the variable $\\max x_i-\\min x_i$ or the standard deviation $\\sigma_i$. This is\n",
    "   \n",
    "   $$\n",
    "   x_i \\to \\frac{x_i - \\mu_i}{s_i},\n",
    "   $$\n",
    "   \n",
    "   where $s_i$ may be one of $\\max x_i-\\min x_i$ and $\\sigma_i$."
   ]
  },
  {
   "cell_type": "markdown",
   "metadata": {},
   "source": [
    "### 2.2. Learning rate\n",
    "\n",
    "The gradient descent algorithm has the form\n",
    "\n",
    "$$\n",
    "\\boldsymbol{\\theta} := \\boldsymbol{\\theta} - \\alpha \\frac{\\partial}{\\partial \\boldsymbol{\\theta}} J(\\boldsymbol{\\theta}).\n",
    "$$\n",
    "\n",
    "One natural question that arises is: How to choose the **learning rate** $\\alpha$?"
   ]
  },
  {
   "cell_type": "markdown",
   "metadata": {},
   "source": [
    "The first thing is to make sure that the **gradient descent algorithm** is working properly. This can be done by looking at the cost function vs. the number of iterations plot. It should look as follows:"
   ]
  },
  {
   "cell_type": "code",
   "execution_count": 8,
   "metadata": {},
   "outputs": [],
   "source": [
    "# Import libraries\n",
    "from matplotlib import pyplot as plt\n",
    "import numpy as np\n",
    "%matplotlib inline"
   ]
  },
  {
   "cell_type": "code",
   "execution_count": 9,
   "metadata": {},
   "outputs": [
    {
     "data": {
      "text/plain": [
       "Text(0, 0.5, '$J(\\\\theta)$')"
      ]
     },
     "execution_count": 9,
     "metadata": {},
     "output_type": "execute_result"
    },
    {
     "data": {
      "image/png": "[encoded data removed]",
      "text/plain": [
       "<Figure size 432x288 with 1 Axes>"
      ]
     },
     "metadata": {},
     "output_type": "display_data"
    }
   ],
   "source": [
    "# Decreasing cost function\n",
    "plt.figure(figsize=(6, 4))\n",
    "x = np.linspace(0, 10)\n",
    "plt.plot(x, 11 * np.exp(-x / 3), label='')\n",
    "plt.axvline(x=0, c='k', lw=2)\n",
    "plt.axhline(y=0, c='k', lw=2)\n",
    "plt.tick_params(\n",
    "    axis='both',\n",
    "    which='both',\n",
    "    bottom=False,\n",
    "    top=False,\n",
    "    left=False,\n",
    "    right=False,\n",
    "    labelbottom=False,\n",
    "    labeltop=False,\n",
    "    labelleft=False,\n",
    "    labelright=False)\n",
    "plt.axis([-1, 10, -1, 10])\n",
    "plt.xlabel('No. of iterations')\n",
    "plt.ylabel(r'$J(\\theta)$')"
   ]
  },
  {
   "cell_type": "markdown",
   "metadata": {},
   "source": [
    "Regarding the gradient descent algorithm:\n",
    "\n",
    "- The cost function $J(\\boldsymbol{\\theta})$ should decrease after every iteration.\n",
    "- The number of iterations it takes to converge varies significantly across different applications."
   ]
  },
  {
   "cell_type": "markdown",
   "metadata": {},
   "source": [
    "If the cost function increases:"
   ]
  },
  {
   "cell_type": "code",
   "execution_count": 10,
   "metadata": {},
   "outputs": [
    {
     "data": {
      "text/plain": [
       "Text(0, 0.5, '$J(\\\\theta)$')"
      ]
     },
     "execution_count": 10,
     "metadata": {},
     "output_type": "execute_result"
    },
    {
     "data": {
      "image/png": "[encoded data removed]",
      "text/plain": [
       "<Figure size 432x288 with 1 Axes>"
      ]
     },
     "metadata": {},
     "output_type": "display_data"
    }
   ],
   "source": [
    "# Increasing cost function\n",
    "plt.figure(figsize=(6, 4))\n",
    "x = np.linspace(0, 10)\n",
    "plt.plot(x, 4 * np.exp(x / 10), label='')\n",
    "plt.axvline(x=0, c='k', lw=2)\n",
    "plt.axhline(y=0, c='k', lw=2)\n",
    "plt.tick_params(\n",
    "    axis='both',\n",
    "    which='both',\n",
    "    bottom=False,\n",
    "    top=False,\n",
    "    left=False,\n",
    "    right=False,\n",
    "    labelbottom=False,\n",
    "    labeltop=False,\n",
    "    labelleft=False,\n",
    "    labelright=False)\n",
    "plt.axis([-1, 10, -1, 10])\n",
    "plt.xlabel('No. of iterations')\n",
    "plt.ylabel(r'$J(\\theta)$')"
   ]
  },
  {
   "cell_type": "markdown",
   "metadata": {},
   "source": [
    "Then it is a clear signal that the gradient descent algorithm is not working. The reason is that the selected learning rate $\\alpha$ is too big.\n",
    "\n",
    "> For **sufficently small** $\\alpha$, $J(\\theta)$ should decrease on every iteration.\n",
    "\n",
    "> But if $\\alpha$ is too small, gradient descent can be slow to converge."
   ]
  },
  {
   "cell_type": "markdown",
   "metadata": {},
   "source": [
    "## 3. Features and Polynomial Regression"
   ]
  },
  {
   "cell_type": "markdown",
   "metadata": {},
   "source": [
    "### Features generation"
   ]
  },
  {
   "cell_type": "markdown",
   "metadata": {},
   "source": [
    "It is not mandatory to use the data \"as is\". We can perform some operations on the data to obtain new features that may make more sense to use."
   ]
  },
  {
   "cell_type": "markdown",
   "metadata": {},
   "source": [
    "For instance, consider the case where we are given the frontage and the depth of a house in order to predict its price. As before, we can use a hypothesis function like\n",
    "\n",
    "$$\n",
    "h_{\\theta}(\\boldsymbol{x}) = \\theta_0 + \\theta_1 \\times frontage + \\theta_2 \\times depth.\n",
    "$$\n",
    "\n",
    "On the other hand, we may think that what actually determines the price of the house is its size. Then, we can define a feature $x = frontage \\times depth$ and use the hypothesis function\n",
    "\n",
    "$$\n",
    "h_{\\theta}(x) = \\theta_0+ \\theta_1 x.\n",
    "$$"
   ]
  },
  {
   "cell_type": "markdown",
   "metadata": {},
   "source": [
    "### Polynomial features"
   ]
  },
  {
   "cell_type": "markdown",
   "metadata": {},
   "source": [
    "We can use all the machinery we have developed for multivariate linear regression to fit polynomial hypotheses to our data.\n",
    "\n",
    "For instance, we could try a cubic hypothesis like:\n",
    "\n",
    "$$\n",
    "h_{\\theta}(x) = \\theta_0 + \\theta_1 x + \\theta_2 x^2 + \\theta_3 x^3.\n",
    "$$\n",
    "\n",
    "We can think of it as a multivariate hypothesis:\n",
    "\n",
    "\\begin{align}\n",
    "h_{\\theta}(x) & = \\theta_0 + \\theta_1 x_1 + \\theta_2 x_2 + \\theta_3 x_3 \\\\\n",
    "              & = \\theta_0 + \\theta_1 x + \\theta_2 x^2 + \\theta_3 x^3\n",
    "\\end{align}\n",
    "\n",
    "with $x_1 = x$, $x_2 = x^2$ and $x_3 = x^3$.\n"
   ]
  },
  {
   "cell_type": "markdown",
   "metadata": {},
   "source": [
    "If we choose the features like this, then the feature scaling becomes very important. For example, if $x$ is the house size, then we have that\n",
    "\n",
    "$$\n",
    "x_1 \\sim 1000\n",
    "$$\n",
    "\n",
    "$$\n",
    "x_2 \\sim 1000000\n",
    "$$\n",
    "\n",
    "$$\n",
    "x_3 \\sim 1000000000\n",
    "$$"
   ]
  },
  {
   "cell_type": "markdown",
   "metadata": {},
   "source": [
    "<script>\n",
    "  $(document).ready(function(){\n",
    "    $('div.prompt').hide();\n",
    "    $('div.back-to-top').hide();\n",
    "    $('nav#menubar').hide();\n",
    "    $('.breadcrumb').hide();\n",
    "    $('.hidden-print').hide();\n",
    "  });\n",
    "</script>\n",
    "\n",
    "<footer id=\"attribution\" style=\"float:right; color:#808080; background:#fff;\">\n",
    "Created with Jupyter by Esteban Jiménez Rodríguez. Based on the content of the Machine Learning course offered through coursera by Prof. Andrew Ng.\n",
    "</footer>"
   ]
  }
 ],
 "metadata": {
  "kernelspec": {
   "display_name": "Python 3",
   "language": "python",
   "name": "python3"
  },
  "language_info": {
   "codemirror_mode": {
    "name": "ipython",
    "version": 3
   },
   "file_extension": ".py",
   "mimetype": "text/x-python",
   "name": "python",
   "nbconvert_exporter": "python",
   "pygments_lexer": "ipython3",
   "version": "3.7.6"
  }
 },
 "nbformat": 4,
 "nbformat_minor": 4
}
