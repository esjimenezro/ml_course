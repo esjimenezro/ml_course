{
 "cells": [
  {
   "cell_type": "markdown",
   "metadata": {},
   "source": [
    "# Evaluating a Training Algorithm\n",
    "\n",
    "Suppose we are trying to improve the performance of a machine learning system. What should we try next?"
   ]
  },
  {
   "cell_type": "markdown",
   "metadata": {},
   "source": [
    "## 1. Deciding what to try next\n",
    "\n",
    "Suppose that we've implemented the regularized linear regression algorithm to predict the house prices.\n",
    "\n",
    "\\begin{align}\n",
    "h_{\\theta}(\\boldsymbol{x}) & = \\theta_0 x_0 + \\theta_1 x_1 + \\dots + \\theta_n x_n \\\\\n",
    "                           & = \\boldsymbol{x}^T \\boldsymbol{\\theta} \\\\\n",
    "                           & = \\boldsymbol{\\theta}^T \\boldsymbol{x}\n",
    "\\end{align}\n",
    "\n",
    "$$\n",
    "\\min_{\\boldsymbol{\\theta}} \\frac{1}{2m}\\left[\\sum_{i=1}^{m}(h_{\\theta}(\\boldsymbol{x}^{(i)}) - y^{i})^2 + \\lambda \\sum_{j=1}^{n}\\theta_j^2\\right].\n",
    "$$\n",
    "\n",
    "However, when we test our trained hypothesis on new examples, we find out that the errors in the predictions are unacceptably large. What should we do?"
   ]
  },
  {
   "cell_type": "markdown",
   "metadata": {},
   "source": [
    "- Get more training examples.\n",
    "- Try smaller sets of features.\n",
    "- Try getting additional features.\n",
    "- Try adding polynomial features.\n",
    "- Try increasing/decreasing $\\lambda$"
   ]
  },
  {
   "cell_type": "markdown",
   "metadata": {},
   "source": [
    "### Machine learning diagnostic\n",
    "\n",
    "> A **diagnostic** is a test that one can run to gain insight of what is/isn't working with a learning algorithm, and gain guidance as how to best to improve its performance."
   ]
  },
  {
   "cell_type": "markdown",
   "metadata": {},
   "source": [
    "## 2. Evaluating a hypothesis\n",
    "\n",
    "When we learn the parameters of our learning algorithm, we think about choosing the parameters to minimize the training cost function. Hence, one may think that a very low value of the cost function on the training examples may be a good thing.\n",
    "\n",
    "However, recall the overfitting example:"
   ]
  },
  {
   "cell_type": "code",
   "execution_count": 1,
   "metadata": {},
   "outputs": [],
   "source": [
    "# Import libraries\n",
    "from matplotlib import pyplot as plt\n",
    "import numpy as np\n",
    "%matplotlib inline"
   ]
  },
  {
   "cell_type": "code",
   "execution_count": 2,
   "metadata": {},
   "outputs": [],
   "source": [
    "# Data\n",
    "x = np.array([1, 1.5, 2, 3, 5])\n",
    "y = np.array([1, 2, 3, 3.5, 4])"
   ]
  },
  {
   "cell_type": "code",
   "execution_count": 3,
   "metadata": {},
   "outputs": [
    {
     "data": {
      "text/plain": [
       "array([-1.07295285,  2.48362283, -0.29528536])"
      ]
     },
     "execution_count": 3,
     "metadata": {},
     "output_type": "execute_result"
    }
   ],
   "source": [
    "# Second-order degree polynomial\n",
    "X2 = np.concatenate([np.array([x**i]).T for i in range(3)], axis=1)\n",
    "theta2 = np.linalg.solve(X2.T.dot(X2), X2.T.dot(y))\n",
    "theta2"
   ]
  },
  {
   "cell_type": "code",
   "execution_count": 4,
   "metadata": {},
   "outputs": [
    {
     "data": {
      "text/plain": [
       "array([ 2.21428572, -5.53571429,  6.05952381, -1.92857143,  0.19047619])"
      ]
     },
     "execution_count": 4,
     "metadata": {},
     "output_type": "execute_result"
    }
   ],
   "source": [
    "# Fourth-order degree polynomial\n",
    "X4 = np.concatenate([np.array([x**i]).T for i in range(5)], axis=1)\n",
    "theta4 = np.linalg.solve(X4.T.dot(X4), X4.T.dot(y))\n",
    "theta4"
   ]
  },
  {
   "cell_type": "code",
   "execution_count": 5,
   "metadata": {},
   "outputs": [
    {
     "data": {
      "text/plain": [
       "<matplotlib.legend.Legend at 0x7fa894a7e2d0>"
      ]
     },
     "execution_count": 5,
     "metadata": {},
     "output_type": "execute_result"
    },
    {
     "data": {
      "image/png": "[encoded data removed]",
      "text/plain": [
       "<Figure size 576x288 with 2 Axes>"
      ]
     },
     "metadata": {},
     "output_type": "display_data"
    }
   ],
   "source": [
    "# Draw some data\n",
    "x_fit = np.linspace(0, 7)\n",
    "X2_fit = np.concatenate([np.array([x_fit**i]).T for i in range(3)], axis=1)\n",
    "X4_fit = np.concatenate([np.array([x_fit**i]).T for i in range(5)], axis=1)\n",
    "y2 = X2_fit.dot(theta2)\n",
    "y4 = X4_fit.dot(theta4)\n",
    "\n",
    "plt.figure(figsize=(8, 4))\n",
    "plt.subplot(1, 2, 1)\n",
    "plt.plot(x, y, 'rx', ms=10, label='data')\n",
    "plt.plot(x_fit, y2, label='Polynomial degree 2')\n",
    "plt.tick_params(\n",
    "    axis='both',       # changes apply to the x-axis\n",
    "    which='both',      # both major and minor ticks are affected\n",
    "    bottom=False,      # ticks along the bottom edge are off\n",
    "    left=False,\n",
    "    labelleft=False,\n",
    "    labelbottom=False) # labels along the bottom edge are off\n",
    "plt.xlabel('$x$')\n",
    "plt.ylabel('$y$')\n",
    "plt.axis([0, 6, 0, 5])\n",
    "plt.legend(loc='best')\n",
    "plt.subplot(1, 2, 2)\n",
    "plt.plot(x, y, 'rx', ms=10, label='data')\n",
    "plt.plot(x_fit, y4, label='Polynomial degree 4')\n",
    "plt.tick_params(\n",
    "    axis='both',       # changes apply to the x-axis\n",
    "    which='both',      # both major and minor ticks are affected\n",
    "    bottom=False,      # ticks along the bottom edge are off\n",
    "    left=False,\n",
    "    labelleft=False,\n",
    "    labelbottom=False) # labels along the bottom edge are off\n",
    "plt.xlabel('$x$')\n",
    "plt.ylabel('$y$')\n",
    "plt.axis([0, 6, 0, 5])\n",
    "plt.legend(loc='best')"
   ]
  },
  {
   "cell_type": "markdown",
   "metadata": {},
   "source": [
    "... A perfect fit may not be a good hypothesis, actually.\n",
    "\n",
    "This type of overfit hypothesis will fail to generalize over new examples."
   ]
  },
  {
   "cell_type": "markdown",
   "metadata": {},
   "source": [
    "The standard way to evaluate a learned hypothesis is as follows:\n",
    "\n",
    "1. Suppose we have the following dataset, with 10 training examples:\n",
    "\n",
    "| Size | Price |\n",
    "| ---- | ----- |\n",
    "| 2104 | 400   |\n",
    "| 1600 | 330   |\n",
    "| 2400 | 369   |\n",
    "| 1416 | 232   |\n",
    "| 3000 | 540   |\n",
    "| 1985 | 300   |\n",
    "| 1534 | 315   |\n",
    "| 1427 | 199   |\n",
    "| 1380 | 212   |\n",
    "| 1494 | 243   |"
   ]
  },
  {
   "cell_type": "markdown",
   "metadata": {},
   "source": [
    "2. We split this dataset as follows:\n",
    "   - We assume the dataset is shuffled (if not, shuffle it first).\n",
    "   - 70% (80%) is left as **training set** $\\{(x^{(1)}, y^{(1)}), \\dots, (x^{(m)}, y^{(m)})\\}$.\n",
    "   \n",
    "| Size | Price |\n",
    "| ---- | ----- |\n",
    "| 2104 | 400   |\n",
    "| 1600 | 330   |\n",
    "| 2400 | 369   |\n",
    "| 1416 | 232   |\n",
    "| 3000 | 540   |\n",
    "| 1985 | 300   |\n",
    "| 1534 | 315   |\n",
    "\n",
    "   - The rest 30% (20%) is the **test set** $\\{(x_{test}^{(1)}, y_{test}^{(1)}), \\dots, (x_{test}^{(m_{test})}, y^{(m_{test})})\\}$.\n",
    "   \n",
    "| Size | Price |\n",
    "| ---- | ----- |\n",
    "| 1427 | 199   |\n",
    "| 1380 | 212   |\n",
    "| 1494 | 243   |"
   ]
  },
  {
   "cell_type": "markdown",
   "metadata": {},
   "source": [
    "3. With this:\n",
    "   - We learn the parameters $\\theta$ minimizing the cost function over the trainig set.\n",
    "   - We compute the cost function over the test set:\n",
    "     \n",
    "     $$\n",
    "     J_{test}(\\theta) = \\frac{1}{2m_{test}} \\sum_{i=1}^{m_{test}}(h_{\\theta}(x_{test}^{(i)}) - y_{test}^{(i)}),\n",
    "     $$\n",
    "     \n",
    "     for the linear regression, or,\n",
    "     \n",
    "     $$\n",
    "     J_{test}(\\theta) = -\\frac{1}{m_{test}} \\sum_{i=1}^{m_{test}}y_{test}^{(i)}\\log h_{\\theta}(x_{test}^{(i)}) + (1 - y_{test}^{(i)})\\log (1 - h_{\\theta}(x_{test}^{(i)})),\n",
    "     $$\n",
    "     \n",
    "     for the logistic regression."
   ]
  },
  {
   "cell_type": "markdown",
   "metadata": {},
   "source": [
    "Another metric we could use to evaluate the logistic regression is me misclassification error:\n",
    "\n",
    "$$\n",
    "err(h_{\\theta}(x), y) = \\left\\{\\begin{array}{ccc}\n",
    "1 & \\text{if} & h_{\\theta}(x)\\geq 0.5 \\text{ and } y=0 \\text{, or } h_{\\theta}(x)< 0.5 \\text{ and } y=1 \\\\\n",
    "0 & \\text{otherwise} &\n",
    "\\end{array}\\right.\n",
    "$$\n",
    "\n",
    "$$\n",
    "error = \\frac{1}{m_{test}} \\sum_{i=1}^{m_{test}} err(h_{\\theta}(x_{test}^{(i)}), y_{test}^{(i)})\n",
    "$$"
   ]
  },
  {
   "cell_type": "markdown",
   "metadata": {},
   "source": [
    "## 3. Model Selection: Train/Test/Validation Sets"
   ]
  },
  {
   "cell_type": "markdown",
   "metadata": {},
   "source": [
    "As we saw in the overfit example, since the parameters are fit w.r.t. the training dataset, the cost function evaluated over the training dataset is likely to be lower than the cost function evaluated on unseen data instances.\n",
    "\n",
    "In this sense, the cost function evaluated on the training set is not a good evaluation metric."
   ]
  },
  {
   "cell_type": "markdown",
   "metadata": {},
   "source": [
    "### Model selection\n",
    "\n",
    "Let's assume that we have fitted a polynomials of order 1, 2, ..., 10 to some training dataset:\n",
    "\n",
    "1. $h_{\\theta}(x) = \\theta_0 + \\theta_1 x$\n",
    "2. $h_{\\theta}(x) = \\theta_0 + \\theta_1 x + \\theta_2 x^2$\n",
    "3. $h_{\\theta}(x) = \\theta_0 + \\theta_1 x + \\theta_2 x^2 + \\theta_3 x^3$\n",
    "\n",
    "...\n",
    "\n",
    "10. $h_{\\theta}(x) = \\theta_0 + \\theta_1 x + \\dots + \\theta_{10} x^{10}$\n",
    "\n",
    "Then, one think we could do in order to decide which degree $d$ is the best, is to evaluate the cost function over the test dataset for each hypothesis:\n",
    "\n",
    "1. $J_{test}(\\Theta^{(1)})$\n",
    "2. $J_{test}(\\Theta^{(2)})$\n",
    "3. $J_{test}(\\Theta^{(3)})$\n",
    "\n",
    "...\n",
    "\n",
    "10. $J_{test}(\\Theta^{(10)})$"
   ]
  },
  {
   "cell_type": "markdown",
   "metadata": {},
   "source": [
    "Thus, if we select the degree of the polynomial $d$ according to these values, then our **hyperparameter** $d$ will fit to the test set. This is, it will be an optimistic estimate of the generalization error."
   ]
  },
  {
   "cell_type": "markdown",
   "metadata": {},
   "source": [
    "### Evaluating your hypothesis\n",
    "\n",
    "In the sense of the above problem, what one can do is to split the example data into three sets:\n",
    "\n",
    "- The training set: This is the set which will be used to learn the model parameters $\\Theta$. $\\{(x^{(1)}, y^{(1)}), \\dots, (x^{(m)}, y^{(m)})\\}$\n",
    "- The validation set: This is the set which will be used to learn the model hyperparameters (such as $d$, in the above example). $\\{(x_{cv}^{(1)}, y_{cv}^{(1)}), \\dots, (x_{cv}^{(m_{cv})}, y_{cv}^{(m_{cv})})\\}$\n",
    "- The test set: This set is to be used to evaluate the model only. $\\{(x_{test}^{(1)}, y_{test}^{(1)}), \\dots, (x_{test}^{(m_{test})}, y_{test}^{(m_{test})})\\}$"
   ]
  },
  {
   "cell_type": "markdown",
   "metadata": {},
   "source": [
    "Thus, instead of using the test set to select the hyperparameter(s) of a model, we should use the validation dataset."
   ]
  },
  {
   "cell_type": "markdown",
   "metadata": {},
   "source": [
    "<script>\n",
    "  $(document).ready(function(){\n",
    "    $('div.prompt').hide();\n",
    "    $('div.back-to-top').hide();\n",
    "    $('nav#menubar').hide();\n",
    "    $('.breadcrumb').hide();\n",
    "    $('.hidden-print').hide();\n",
    "  });\n",
    "</script>\n",
    "\n",
    "<footer id=\"attribution\" style=\"float:right; color:#808080; background:#fff;\">\n",
    "Created with Jupyter by Esteban Jiménez Rodríguez. Based on the content of the Machine Learning course offered through coursera by Prof. Andrew Ng.\n",
    "</footer>"
   ]
  }
 ],
 "metadata": {
  "kernelspec": {
   "display_name": "Python 3",
   "language": "python",
   "name": "python3"
  },
  "language_info": {
   "codemirror_mode": {
    "name": "ipython",
    "version": 3
   },
   "file_extension": ".py",
   "mimetype": "text/x-python",
   "name": "python",
   "nbconvert_exporter": "python",
   "pygments_lexer": "ipython3",
   "version": "3.7.6"
  }
 },
 "nbformat": 4,
 "nbformat_minor": 4
}
