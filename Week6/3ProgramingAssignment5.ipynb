{
 "cells": [
  {
   "cell_type": "markdown",
   "metadata": {},
   "source": [
    "# Programming Exercise 5: Regularized Linear Regression and Bias v.s. Variance\n",
    "\n",
    "In this exercise, you will implement regularized linear regression and use it to study models with different bias-variance properties."
   ]
  },
  {
   "cell_type": "markdown",
   "metadata": {},
   "source": [
    "## 1. Regularized Linear Regression"
   ]
  },
  {
   "cell_type": "markdown",
   "metadata": {},
   "source": [
    "### 1.1. Visualizing the dataset\n",
    "\n",
    "We will begin by visualizing the dataset containing historical records on the change in the water level, $x$, and the amount of water flowing out of the dam, $y$.\n",
    "\n",
    "This dataset is divided into three parts:\n",
    "\n",
    "- A training set that your model will learn on: $X$, $y$.\n",
    "- A cross validation set for determining the regularization parameter: $X_{val}$, $y_{val}$.\n",
    "- A test set for evaluating performance. These are “unseen” examples which your model did not see during training: $X_{test}$, $y_{test}$."
   ]
  },
  {
   "cell_type": "code",
   "execution_count": 2,
   "metadata": {},
   "outputs": [],
   "source": [
    "# Import function to load .mat files\n",
    "from scipy.io import loadmat"
   ]
  },
  {
   "cell_type": "code",
   "execution_count": 3,
   "metadata": {},
   "outputs": [],
   "source": [
    "# Load data\n",
    "data = loadmat('ex5data1.mat')\n",
    "X = data['X']\n",
    "y = data['y']\n",
    "y = y.T[0]\n",
    "Xval = data['Xval']\n",
    "yval = data['yval']\n",
    "yval = yval.T[0]\n",
    "Xtest = data['Xtest']\n",
    "ytest = data['ytest']\n",
    "ytest = ytest.T[0]"
   ]
  },
  {
   "cell_type": "code",
   "execution_count": 4,
   "metadata": {},
   "outputs": [],
   "source": [
    "# Import libraries\n",
    "from matplotlib import pyplot as plt\n",
    "import numpy as np\n",
    "%matplotlib inline"
   ]
  },
  {
   "cell_type": "code",
   "execution_count": 10,
   "metadata": {},
   "outputs": [
    {
     "data": {
      "text/plain": [
       "Text(0, 0.5, 'Water flowing out of the dam')"
      ]
     },
     "execution_count": 10,
     "metadata": {},
     "output_type": "execute_result"
    },
    {
     "data": {
      "image/png": "[encoded data removed]",
      "text/plain": [
       "<Figure size 432x288 with 1 Axes>"
      ]
     },
     "metadata": {
      "needs_background": "light"
     },
     "output_type": "display_data"
    }
   ],
   "source": [
    "# Plot the training data\n",
    "plt.plot(X.T[0], y, 'rx')\n",
    "plt.xlabel('Change in water level')\n",
    "plt.ylabel('Water flowing out of the dam')"
   ]
  },
  {
   "cell_type": "markdown",
   "metadata": {},
   "source": [
    "### 1.2. Regularized linear regression cost function and gradient\n",
    "\n",
    "Recall that the regularized linear regression have the following cost function and gradient:\n",
    "\n",
    "$$\n",
    "J(\\boldsymbol{\\theta}) = \\frac{1}{2m}\\left[\\left\\lvert\\left\\lvert\\boldsymbol{X}\\boldsymbol{\\theta} - \\boldsymbol{y}\\right\\rvert\\right\\rvert^2 + \\lambda \\left\\lvert\\left\\lvert \\boldsymbol{A}\\boldsymbol{\\theta}\\right\\rvert\\right\\rvert^2\\right],\n",
    "$$\n",
    "\n",
    "$$\n",
    "\\frac{\\partial}{\\partial \\boldsymbol{\\theta}} J(\\boldsymbol{\\theta}) = \\frac{1}{m} \\boldsymbol{X}^T (\\boldsymbol{X}\\boldsymbol{\\theta} - \\boldsymbol{y}) + \\frac{\\lambda}{m}A^T A\\boldsymbol{\\theta} = \\frac{1}{m} \\boldsymbol{X}^T (\\boldsymbol{X}\\boldsymbol{\\theta} - \\boldsymbol{y}) + \\frac{\\lambda}{m}A\\boldsymbol{\\theta}.\n",
    "$$"
   ]
  },
  {
   "cell_type": "markdown",
   "metadata": {},
   "source": [
    "with\n",
    "\n",
    "$$\n",
    "A = \\left[\\begin{array}{cc}\n",
    "0 & \\boldsymbol{0}_{1\\times n} \\\\\n",
    "\\boldsymbol{0}_{n\\times 1} & \\boldsymbol{I}_{n \\times n}\\\\\n",
    "\\end{array}\\right]\n",
    "$$"
   ]
  },
  {
   "cell_type": "code",
   "execution_count": 12,
   "metadata": {},
   "outputs": [],
   "source": [
    "# Import libraries\n",
    "import numpy as np"
   ]
  },
  {
   "cell_type": "code",
   "execution_count": 14,
   "metadata": {},
   "outputs": [],
   "source": [
    "# Cost and cost gradient\n",
    "def cost(theta, X, y, l):\n",
    "    m, np1 = X.shape\n",
    "    A = np.block([[np.zeros((1, 1)), np.zeros((1, np1 - 1))],\n",
    "                  [np.zeros((np1 - 1, 1)), np.eye(np1 - 1)]])\n",
    "    return (np.linalg.norm(X.dot(theta) - y)**2 + l * np.linalg.norm(A.dot(theta))**2) / (2 * m)\n",
    "def cost_grad(theta, X, y, l):\n",
    "    m, np1 = X.shape\n",
    "    A = np.block([[np.zeros((1, 1)), np.zeros((1, np1 - 1))],\n",
    "                  [np.zeros((np1 - 1, 1)), np.eye(np1 - 1)]])\n",
    "    return (X.T.dot(X.dot(theta) - y) + l * A.dot(theta)) / m"
   ]
  },
  {
   "cell_type": "markdown",
   "metadata": {},
   "source": [
    "### 1.3. Fitting linear regression"
   ]
  },
  {
   "cell_type": "markdown",
   "metadata": {},
   "source": [
    "In this part, we set regularization parameter $\\lambda$ to zero. Because our current implementation of linear regression is trying to fit a 2-dimensional $\\theta$, regularization will not be incredibly helpful for a $\\theta$ of such low dimension. In the later parts of the exercise, you will be using polynomial regression with regularization."
   ]
  },
  {
   "cell_type": "code",
   "execution_count": 15,
   "metadata": {},
   "outputs": [],
   "source": [
    "# Numerical minimizer\n",
    "from scipy.optimize import minimize"
   ]
  },
  {
   "cell_type": "code",
   "execution_count": 19,
   "metadata": {},
   "outputs": [],
   "source": [
    "solution = minimize(fun=cost,\n",
    "                    x0=np.zeros(2),\n",
    "                    args=(np.block([np.ones((len(y), 1)), X]), y, 0),\n",
    "                    jac=cost_grad)"
   ]
  },
  {
   "cell_type": "code",
   "execution_count": 22,
   "metadata": {},
   "outputs": [
    {
     "data": {
      "text/plain": [
       "      fun: 22.373906495108912\n",
       " hess_inv: array([[1.03142187, 0.00617881],\n",
       "       [0.00617881, 0.001215  ]])\n",
       "      jac: array([-3.40468394e-15,  2.33886984e-14])\n",
       "  message: 'Optimization terminated successfully.'\n",
       "     nfev: 5\n",
       "      nit: 3\n",
       "     njev: 5\n",
       "   status: 0\n",
       "  success: True\n",
       "        x: array([13.08790351,  0.36777923])"
      ]
     },
     "execution_count": 22,
     "metadata": {},
     "output_type": "execute_result"
    }
   ],
   "source": [
    "theta = solution.x\n",
    "solution"
   ]
  },
  {
   "cell_type": "code",
   "execution_count": 23,
   "metadata": {},
   "outputs": [
    {
     "data": {
      "text/plain": [
       "<matplotlib.legend.Legend at 0x7f68eee98c50>"
      ]
     },
     "execution_count": 23,
     "metadata": {},
     "output_type": "execute_result"
    },
    {
     "data": {
      "image/png": "[encoded data removed]",
      "text/plain": [
       "<Figure size 432x288 with 1 Axes>"
      ]
     },
     "metadata": {
      "needs_background": "light"
     },
     "output_type": "display_data"
    }
   ],
   "source": [
    "# Plot the training data and fitted line\n",
    "x_num = np.linspace(-50, 40)\n",
    "y_num = np.block([np.ones((len(x_num), 1)), np.array([x_num]).T]).dot(theta)\n",
    "plt.plot(X.T[0], y, 'rx', label='Training data')\n",
    "plt.plot(x_num, y_num, '--', label='Fitted line')\n",
    "plt.xlabel('Change in water level')\n",
    "plt.ylabel('Water flowing out of the dam')\n",
    "plt.legend(loc='upper left', bbox_to_anchor=(1.05, 1))"
   ]
  },
  {
   "cell_type": "markdown",
   "metadata": {},
   "source": [
    "The best fit line tells us that the model is not a good fit to the data because the data has a non-linear pattern. While visualizing the best fit as shown is one possible way to debug your learning algorithm, it is not always easy to visualize the data and model. In the next section, you will implement a function to generate learning curves that can help you debug your learning algorithm even if it is not easy to visualize the data."
   ]
  },
  {
   "cell_type": "markdown",
   "metadata": {},
   "source": [
    "## Bias-variance\n",
    "\n",
    "An important concept in machine learning is the bias-variance tradeoff. Models with high bias are not complex enough for the data and tend to underfit, while models with high variance overfit to the training data."
   ]
  },
  {
   "cell_type": "markdown",
   "metadata": {},
   "source": [
    "### 2.1. Learning curves\n",
    "\n",
    "You will now implement code to generate the learning curves that will be useful in debugging learning algorithms. Recall that a learning curve plots training and cross validation error as a function of training set size.\n",
    "\n",
    "To plot the learning curve, we need a training and cross validation set error for different training set sizes."
   ]
  },
  {
   "cell_type": "code",
   "execution_count": 26,
   "metadata": {},
   "outputs": [],
   "source": [
    "# Learning curves\n",
    "J_train = []\n",
    "J_val = []\n",
    "for i in range(1, len(y) + 1):\n",
    "    theta = minimize(fun=cost,\n",
    "                     x0=np.zeros(2),\n",
    "                     args=(np.block([np.ones((len(y[:i]), 1)), X[:i]]), y[:i], 0),\n",
    "                     jac=cost_grad).x\n",
    "    J_train.append(cost(theta, np.block([np.ones((len(y[:i]), 1)), X[:i]]), y[:i], 0))\n",
    "    J_val.append(cost(theta, np.block([np.ones((len(yval), 1)), Xval]), yval, 0))"
   ]
  },
  {
   "cell_type": "code",
   "execution_count": 28,
   "metadata": {},
   "outputs": [
    {
     "data": {
      "text/plain": [
       "<matplotlib.legend.Legend at 0x7f68eeeccc50>"
      ]
     },
     "execution_count": 28,
     "metadata": {},
     "output_type": "execute_result"
    },
    {
     "data": {
      "image/png": "[encoded data removed]",
      "text/plain": [
       "<Figure size 432x288 with 1 Axes>"
      ]
     },
     "metadata": {
      "needs_background": "light"
     },
     "output_type": "display_data"
    }
   ],
   "source": [
    "plt.plot(range(1, len(y) + 1), J_train, 'r', label='$J_{train}$')\n",
    "plt.plot(range(1, len(y) + 1), J_val, 'b', label='$J_{val}$')\n",
    "plt.xlabel('Number of training samples $m$')\n",
    "plt.legend(loc='upper left', bbox_to_anchor=(1.05, 1))"
   ]
  },
  {
   "cell_type": "markdown",
   "metadata": {},
   "source": [
    "## 3. Polynomial regression\n",
    "\n",
    "The problem with our linear model was that it was too simple for the data and resulted in underfitting (high bias). In this part of the exercise, you will address this problem by adding more features."
   ]
  },
  {
   "cell_type": "markdown",
   "metadata": {},
   "source": [
    "For use polynomial regression, our hypothesis has the form:\n",
    "\n",
    "$$\n",
    "h_{\\theta}(x) = \\theta_0 + \\theta_1 \\times waterLevel + \\theta_2 \\times (waterLevel)^2 + \\dots + \\theta_p \\times (waterLevel)^p\n",
    "$$\n",
    "\n",
    "Notice that by defining $x_1 = (waterLevel)$, $x_2 = (waterLevel)^2$ , . . . , $x_p = (waterLevel)^p$ , we obtain a linear regression model where the features are the various powers of the original value (waterLevel)."
   ]
  },
  {
   "cell_type": "code",
   "execution_count": 29,
   "metadata": {},
   "outputs": [],
   "source": [
    "# Define X_poly\n",
    "p = 8\n",
    "X_poly = np.block([X**i for i in range(1, p + 1)])"
   ]
  },
  {
   "cell_type": "code",
   "execution_count": 32,
   "metadata": {},
   "outputs": [],
   "source": [
    "# Normalize features\n",
    "mu, sigma = X_poly.mean(axis=0), X_poly.std(axis=0)\n",
    "X_poly = (X_poly - mu) / sigma"
   ]
  },
  {
   "cell_type": "code",
   "execution_count": 34,
   "metadata": {},
   "outputs": [],
   "source": [
    "# Define val features\n",
    "X_poly_val = np.block([Xval**i for i in range(1, p + 1)])\n",
    "X_poly_val = (X_poly_val - mu) / sigma"
   ]
  },
  {
   "cell_type": "code",
   "execution_count": 35,
   "metadata": {},
   "outputs": [],
   "source": [
    "# Define test features\n",
    "X_poly_test = np.block([Xtest**i for i in range(1, p + 1)])\n",
    "X_poly_test = (X_poly_test - mu) / sigma"
   ]
  },
  {
   "cell_type": "markdown",
   "metadata": {},
   "source": [
    "### Polynomial regression $\\lambda = 0$"
   ]
  },
  {
   "cell_type": "code",
   "execution_count": 61,
   "metadata": {},
   "outputs": [
    {
     "data": {
      "text/plain": [
       "array([ 11.21758918,   9.12523972,  18.17176688,  28.98472056,\n",
       "       -27.19983046, -74.61697337,   6.66625796,  60.80635119,\n",
       "        20.73324805])"
      ]
     },
     "execution_count": 61,
     "metadata": {},
     "output_type": "execute_result"
    }
   ],
   "source": [
    "# Learn polynomial regression\n",
    "solution = minimize(fun=cost,\n",
    "                    x0=np.zeros(9),\n",
    "                    args=(np.block([np.ones((len(y), 1)), X_poly]), y, 0),\n",
    "                    jac=cost_grad)\n",
    "theta = solution.x\n",
    "theta"
   ]
  },
  {
   "cell_type": "code",
   "execution_count": 43,
   "metadata": {},
   "outputs": [
    {
     "data": {
      "text/plain": [
       "<matplotlib.legend.Legend at 0x7f68ee828950>"
      ]
     },
     "execution_count": 43,
     "metadata": {},
     "output_type": "execute_result"
    },
    {
     "data": {
      "image/png": "[encoded data removed]",
      "text/plain": [
       "<Figure size 432x288 with 1 Axes>"
      ]
     },
     "metadata": {
      "needs_background": "light"
     },
     "output_type": "display_data"
    }
   ],
   "source": [
    "# Plot the training data and fitted line\n",
    "x_num = np.linspace(-50, 40)\n",
    "X_poly_num = np.block([np.array([x_num]).T**i for i in range(1, p + 1)])\n",
    "X_poly_num = (X_poly_num - mu) / sigma\n",
    "y_num = np.block([np.ones((len(x_num), 1)), X_poly_num]).dot(theta)\n",
    "plt.plot(X.T[0], y, 'rx', label='Training data')\n",
    "plt.plot(x_num, y_num, '--', label='Fitted line')\n",
    "plt.xlabel('Change in water level')\n",
    "plt.ylabel('Water flowing out of the dam')\n",
    "plt.legend(loc='upper left', bbox_to_anchor=(1.05, 1))"
   ]
  },
  {
   "cell_type": "code",
   "execution_count": 50,
   "metadata": {},
   "outputs": [],
   "source": [
    "# Learning curves\n",
    "J_train = []\n",
    "J_val = []\n",
    "for i in range(1, len(y) + 1):\n",
    "    theta = minimize(fun=cost,\n",
    "                     x0=np.zeros(9),\n",
    "                     args=(np.block([np.ones((len(y[:i]), 1)), X_poly[:i]]), y[:i], 0),\n",
    "                     jac=cost_grad).x\n",
    "    J_train.append(cost(theta, np.block([np.ones((len(y[:i]), 1)), X_poly[:i]]), y[:i], 0))\n",
    "    J_val.append(cost(theta, np.block([np.ones((len(yval), 1)), X_poly_val]), yval, 0))"
   ]
  },
  {
   "cell_type": "code",
   "execution_count": 51,
   "metadata": {},
   "outputs": [
    {
     "data": {
      "text/plain": [
       "<matplotlib.legend.Legend at 0x7f68ee715850>"
      ]
     },
     "execution_count": 51,
     "metadata": {},
     "output_type": "execute_result"
    },
    {
     "data": {
      "image/png": "[encoded data removed]",
      "text/plain": [
       "<Figure size 432x288 with 1 Axes>"
      ]
     },
     "metadata": {
      "needs_background": "light"
     },
     "output_type": "display_data"
    }
   ],
   "source": [
    "plt.plot(range(1, len(y) + 1), J_train, 'r', label='$J_{train}$')\n",
    "plt.plot(range(1, len(y) + 1), J_val, 'b', label='$J_{val}$')\n",
    "plt.xlabel('Number of training samples $m$')\n",
    "plt.legend(loc='upper left', bbox_to_anchor=(1.05, 1))"
   ]
  },
  {
   "cell_type": "markdown",
   "metadata": {},
   "source": [
    "### Polynomial regression $\\lambda = 1$"
   ]
  },
  {
   "cell_type": "code",
   "execution_count": 60,
   "metadata": {},
   "outputs": [
    {
     "data": {
      "text/plain": [
       "array([11.21758914,  8.36724333,  5.10199905,  3.39012069,  2.15885017,\n",
       "        1.62044468,  0.9724768 ,  1.02576098,  0.32263471])"
      ]
     },
     "execution_count": 60,
     "metadata": {},
     "output_type": "execute_result"
    }
   ],
   "source": [
    "# Learn polynomial regression\n",
    "solution = minimize(fun=cost,\n",
    "                    x0=np.zeros(9),\n",
    "                    args=(np.block([np.ones((len(y), 1)), X_poly]), y, 1),\n",
    "                    jac=cost_grad)\n",
    "theta = solution.x\n",
    "theta"
   ]
  },
  {
   "cell_type": "code",
   "execution_count": 55,
   "metadata": {},
   "outputs": [
    {
     "data": {
      "text/plain": [
       "<matplotlib.legend.Legend at 0x7f68ee567f90>"
      ]
     },
     "execution_count": 55,
     "metadata": {},
     "output_type": "execute_result"
    },
    {
     "data": {
      "image/png": "[encoded data removed]",
      "text/plain": [
       "<Figure size 432x288 with 1 Axes>"
      ]
     },
     "metadata": {
      "needs_background": "light"
     },
     "output_type": "display_data"
    }
   ],
   "source": [
    "# Plot the training data and fitted line\n",
    "x_num = np.linspace(-50, 40)\n",
    "X_poly_num = np.block([np.array([x_num]).T**i for i in range(1, p + 1)])\n",
    "X_poly_num = (X_poly_num - mu) / sigma\n",
    "y_num = np.block([np.ones((len(x_num), 1)), X_poly_num]).dot(theta)\n",
    "plt.plot(X.T[0], y, 'rx', label='Training data')\n",
    "plt.plot(x_num, y_num, '--', label='Fitted line')\n",
    "plt.xlabel('Change in water level')\n",
    "plt.ylabel('Water flowing out of the dam')\n",
    "plt.legend(loc='upper left', bbox_to_anchor=(1.05, 1))"
   ]
  },
  {
   "cell_type": "code",
   "execution_count": 58,
   "metadata": {},
   "outputs": [],
   "source": [
    "# Learning curves\n",
    "J_train = []\n",
    "J_val = []\n",
    "for i in range(1, len(y) + 1):\n",
    "    theta = minimize(fun=cost,\n",
    "                     x0=np.zeros(9),\n",
    "                     args=(np.block([np.ones((len(y[:i]), 1)), X_poly[:i]]), y[:i], 1),\n",
    "                     jac=cost_grad).x\n",
    "    J_train.append(cost(theta, np.block([np.ones((len(y[:i]), 1)), X_poly[:i]]), y[:i], 0))\n",
    "    J_val.append(cost(theta, np.block([np.ones((len(yval), 1)), X_poly_val]), yval, 0))"
   ]
  },
  {
   "cell_type": "code",
   "execution_count": 59,
   "metadata": {},
   "outputs": [
    {
     "data": {
      "text/plain": [
       "<matplotlib.legend.Legend at 0x7f68ee4a5ed0>"
      ]
     },
     "execution_count": 59,
     "metadata": {},
     "output_type": "execute_result"
    },
    {
     "data": {
      "image/png": "[encoded data removed]",
      "text/plain": [
       "<Figure size 432x288 with 1 Axes>"
      ]
     },
     "metadata": {
      "needs_background": "light"
     },
     "output_type": "display_data"
    }
   ],
   "source": [
    "plt.plot(range(1, len(y) + 1), J_train, 'r', label='$J_{train}$')\n",
    "plt.plot(range(1, len(y) + 1), J_val, 'b', label='$J_{val}$')\n",
    "plt.xlabel('Number of training samples $m$')\n",
    "plt.legend(loc='upper left', bbox_to_anchor=(1.05, 1))"
   ]
  },
  {
   "cell_type": "markdown",
   "metadata": {},
   "source": [
    "### Selecting $\\lambda$ using a cross validation set"
   ]
  },
  {
   "cell_type": "markdown",
   "metadata": {},
   "source": [
    "From the previous parts of the exercise, you observed that the value of $\\lambda$ can significantly affect the results of regularized polynomial regression on the training and cross validation set. In particular, a model without regularization ($\\lambda = 0$) fits the training set well, but does not generalize."
   ]
  },
  {
   "cell_type": "markdown",
   "metadata": {},
   "source": [
    "A good choice of $\\lambda$ (e.g., $\\lambda = 1$) can provide a good fit to the data.\n",
    "\n",
    "In this section, you will implement an automated method to select the $\\lambda$ parameter. Concretely, you will use a cross validation set to evaluate how good each $\\lambda$ value is. After selecting the best $\\lambda$ value using the cross validation set, we can then evaluate the model on the test set to estimate how well the model will perform on actual unseen data."
   ]
  },
  {
   "cell_type": "code",
   "execution_count": 65,
   "metadata": {},
   "outputs": [],
   "source": [
    "# Validation curves\n",
    "J_train = []\n",
    "J_val = []\n",
    "Lambdas = [0, 0.001, 0.003, 0.01, 0.03, 0.1, 0.3, 1, 3, 10]\n",
    "for l in Lambdas:\n",
    "    theta = minimize(fun=cost,\n",
    "                     x0=np.zeros(9),\n",
    "                     args=(np.block([np.ones((len(y), 1)), X_poly]), y, l),\n",
    "                     jac=cost_grad).x\n",
    "    J_train.append(cost(theta, np.block([np.ones((len(y), 1)), X_poly]), y, 0))\n",
    "    J_val.append(cost(theta, np.block([np.ones((len(yval), 1)), X_poly_val]), yval, 0))"
   ]
  },
  {
   "cell_type": "code",
   "execution_count": 66,
   "metadata": {},
   "outputs": [
    {
     "data": {
      "text/plain": [
       "<matplotlib.legend.Legend at 0x7f68ee285b50>"
      ]
     },
     "execution_count": 66,
     "metadata": {},
     "output_type": "execute_result"
    },
    {
     "data": {
      "image/png": "[encoded data removed]",
      "text/plain": [
       "<Figure size 432x288 with 1 Axes>"
      ]
     },
     "metadata": {
      "needs_background": "light"
     },
     "output_type": "display_data"
    }
   ],
   "source": [
    "plt.plot(Lambdas, J_train, 'r', label='$J_{train}$')\n",
    "plt.plot(Lambdas, J_val, 'b', label='$J_{val}$')\n",
    "plt.xlabel('Regularization parameter $\\lambda$')\n",
    "plt.legend(loc='upper left', bbox_to_anchor=(1.05, 1))"
   ]
  },
  {
   "cell_type": "markdown",
   "metadata": {},
   "source": [
    "A good choice for $\\lambda$ would be:"
   ]
  },
  {
   "cell_type": "code",
   "execution_count": 69,
   "metadata": {},
   "outputs": [
    {
     "data": {
      "text/plain": [
       "3"
      ]
     },
     "execution_count": 69,
     "metadata": {},
     "output_type": "execute_result"
    }
   ],
   "source": [
    "Lambdas[np.array(J_val).argmin()]"
   ]
  },
  {
   "cell_type": "markdown",
   "metadata": {},
   "source": [
    "### Computing the test set error\n",
    "\n",
    "In the previous part of the exercise, you implemented code to compute the cross validation error for various values of the regularization parameter $\\lambda$.\n",
    "\n",
    "However, to get a better indication of the model’s performance in the real world, it is important to evaluate the “final” model on a test set that was not used in any part of training (that is, it was neither used to select the $\\lambda$ parameters, nor to learn the model parameters $\\theta$)."
   ]
  },
  {
   "cell_type": "code",
   "execution_count": 70,
   "metadata": {},
   "outputs": [],
   "source": [
    "# Find theta for the optimal regularization parameter\n",
    "theta = minimize(fun=cost,\n",
    "                 x0=np.zeros(9),\n",
    "                 args=(np.block([np.ones((len(y), 1)), X_poly]), y, 3),\n",
    "                 jac=cost_grad).x"
   ]
  },
  {
   "cell_type": "code",
   "execution_count": 74,
   "metadata": {},
   "outputs": [
    {
     "data": {
      "text/plain": [
       "<matplotlib.legend.Legend at 0x7f68ee24a890>"
      ]
     },
     "execution_count": 74,
     "metadata": {},
     "output_type": "execute_result"
    },
    {
     "data": {
      "image/png": "[encoded data removed]",
      "text/plain": [
       "<Figure size 432x288 with 1 Axes>"
      ]
     },
     "metadata": {
      "needs_background": "light"
     },
     "output_type": "display_data"
    }
   ],
   "source": [
    "# Plot the training data and fitted line\n",
    "x_num = np.linspace(-50, 40)\n",
    "X_poly_num = np.block([np.array([x_num]).T**i for i in range(1, p + 1)])\n",
    "X_poly_num = (X_poly_num - mu) / sigma\n",
    "y_num = np.block([np.ones((len(x_num), 1)), X_poly_num]).dot(theta)\n",
    "plt.plot(X.T[0], y, 'rx', label='Training data')\n",
    "plt.plot(Xtest.T[0], ytest, 'ob', label='Test data')\n",
    "plt.plot(x_num, y_num, '--', label='Fitted line')\n",
    "plt.xlabel('Change in water level')\n",
    "plt.ylabel('Water flowing out of the dam')\n",
    "plt.legend(loc='upper left', bbox_to_anchor=(1.05, 1))"
   ]
  },
  {
   "cell_type": "code",
   "execution_count": 71,
   "metadata": {},
   "outputs": [],
   "source": [
    "# Evaluate the cost function over the test samples\n",
    "J_test = cost(theta, np.block([np.ones((len(ytest), 1)), X_poly_test]), ytest, 0)"
   ]
  },
  {
   "cell_type": "code",
   "execution_count": 72,
   "metadata": {},
   "outputs": [
    {
     "data": {
      "text/plain": [
       "3.572026646133373"
      ]
     },
     "execution_count": 72,
     "metadata": {},
     "output_type": "execute_result"
    }
   ],
   "source": [
    "J_test"
   ]
  },
  {
   "cell_type": "markdown",
   "metadata": {},
   "source": [
    "<script>\n",
    "  $(document).ready(function(){\n",
    "    $('div.prompt').hide();\n",
    "    $('div.back-to-top').hide();\n",
    "    $('nav#menubar').hide();\n",
    "    $('.breadcrumb').hide();\n",
    "    $('.hidden-print').hide();\n",
    "  });\n",
    "</script>\n",
    "\n",
    "<footer id=\"attribution\" style=\"float:right; color:#808080; background:#fff;\">\n",
    "Created with Jupyter by Esteban Jiménez Rodríguez. Based on the content of the Machine Learning course offered through coursera by Prof. Andrew Ng.\n",
    "</footer>"
   ]
  }
 ],
 "metadata": {
  "kernelspec": {
   "display_name": "Python 3",
   "language": "python",
   "name": "python3"
  },
  "language_info": {
   "codemirror_mode": {
    "name": "ipython",
    "version": 3
   },
   "file_extension": ".py",
   "mimetype": "text/x-python",
   "name": "python",
   "nbconvert_exporter": "python",
   "pygments_lexer": "ipython3",
   "version": "3.7.6"
  }
 },
 "nbformat": 4,
 "nbformat_minor": 4
}
