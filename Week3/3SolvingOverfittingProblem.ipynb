{
 "cells": [
  {
   "cell_type": "markdown",
   "metadata": {},
   "source": [
    "# Solving the Problem of Overfitting"
   ]
  },
  {
   "cell_type": "markdown",
   "metadata": {},
   "source": [
    "## 1. The problem of overfitting"
   ]
  },
  {
   "cell_type": "markdown",
   "metadata": {},
   "source": [
    "Throughout the past notebooks we have seen two different machine learning techniques:\n",
    "\n",
    "1. Linear regression: For learning problems whose output is real valued.\n",
    "2. Logistic regression: For learning problems whose output is discrete."
   ]
  },
  {
   "cell_type": "markdown",
   "metadata": {},
   "source": [
    "We've seen how to apply both of them having good results. However, more often than desired, these algorithms run into a problem called **overfitting**. Let's introduce the problem through an example."
   ]
  },
  {
   "cell_type": "markdown",
   "metadata": {},
   "source": [
    "**Example.** Let's consider a linear regression problem with the following data points:"
   ]
  },
  {
   "cell_type": "code",
   "execution_count": 1,
   "metadata": {},
   "outputs": [],
   "source": [
    "# Import libraries\n",
    "from matplotlib import pyplot as plt\n",
    "import numpy as np\n",
    "%matplotlib inline"
   ]
  },
  {
   "cell_type": "code",
   "execution_count": 2,
   "metadata": {},
   "outputs": [],
   "source": [
    "# Data\n",
    "x = np.array([1, 1.5, 2, 3, 5])\n",
    "y = np.array([1, 2, 3, 3.5, 4])"
   ]
  },
  {
   "cell_type": "code",
   "execution_count": 3,
   "metadata": {},
   "outputs": [
    {
     "data": {
      "text/plain": [
       "[0, 6, 0, 5]"
      ]
     },
     "execution_count": 3,
     "metadata": {},
     "output_type": "execute_result"
    },
    {
     "data": {
      "image/png": "[encoded data removed]",
      "text/plain": [
       "<Figure size 288x144 with 1 Axes>"
      ]
     },
     "metadata": {},
     "output_type": "display_data"
    }
   ],
   "source": [
    "# Draw some data\n",
    "plt.figure(figsize=(4, 2))\n",
    "plt.plot(x, y, 'rx', ms=10)\n",
    "plt.tick_params(\n",
    "    axis='both',       # changes apply to the x-axis\n",
    "    which='both',      # both major and minor ticks are affected\n",
    "    bottom=False,      # ticks along the bottom edge are off\n",
    "    left=False,\n",
    "    labelleft=False,\n",
    "    labelbottom=False) # labels along the bottom edge are off\n",
    "plt.xlabel('$x$')\n",
    "plt.ylabel('$y$')\n",
    "plt.axis([0, 6, 0, 5])"
   ]
  },
  {
   "cell_type": "markdown",
   "metadata": {},
   "source": [
    "Now, let's fit the following hypotheses to these data:\n",
    "\n",
    "$$\n",
    "h^{1}_{\\theta}(x) = \\theta_0 + \\theta_1 x,\n",
    "$$\n",
    "\n",
    "$$\n",
    "h^{2}_{\\theta}(x) = \\theta_0 + \\theta_1 x + \\theta_2 x^2,\n",
    "$$\n",
    "\n",
    "and\n",
    "\n",
    "$$\n",
    "h^{3}_{\\theta}(x) = \\theta_0 + \\theta_1 x + \\theta_2 x^2 + \\theta_3 x^3 + \\theta_4 x^4.\n",
    "$$"
   ]
  },
  {
   "cell_type": "markdown",
   "metadata": {},
   "source": [
    "Let's find $\\theta$ for each hypothesis using the normal equation:"
   ]
  },
  {
   "cell_type": "code",
   "execution_count": 4,
   "metadata": {},
   "outputs": [
    {
     "data": {
      "text/plain": [
       "array([1.0125, 0.675 ])"
      ]
     },
     "execution_count": 4,
     "metadata": {},
     "output_type": "execute_result"
    }
   ],
   "source": [
    "X1 = np.concatenate([np.array([x**i]).T for i in range(2)], axis=1)\n",
    "theta1 = np.linalg.solve(X1.T.dot(X1), X1.T.dot(y))\n",
    "theta1"
   ]
  },
  {
   "cell_type": "code",
   "execution_count": 5,
   "metadata": {},
   "outputs": [
    {
     "data": {
      "text/plain": [
       "array([-1.07295285,  2.48362283, -0.29528536])"
      ]
     },
     "execution_count": 5,
     "metadata": {},
     "output_type": "execute_result"
    }
   ],
   "source": [
    "X2 = np.concatenate([np.array([x**i]).T for i in range(3)], axis=1)\n",
    "theta2 = np.linalg.solve(X2.T.dot(X2), X2.T.dot(y))\n",
    "theta2"
   ]
  },
  {
   "cell_type": "code",
   "execution_count": 6,
   "metadata": {},
   "outputs": [
    {
     "data": {
      "text/plain": [
       "array([ 2.21428572, -5.53571429,  6.05952381, -1.92857143,  0.19047619])"
      ]
     },
     "execution_count": 6,
     "metadata": {},
     "output_type": "execute_result"
    }
   ],
   "source": [
    "X4 = np.concatenate([np.array([x**i]).T for i in range(5)], axis=1)\n",
    "theta4 = np.linalg.solve(X4.T.dot(X4), X4.T.dot(y))\n",
    "theta4"
   ]
  },
  {
   "cell_type": "code",
   "execution_count": 8,
   "metadata": {},
   "outputs": [
    {
     "data": {
      "text/plain": [
       "<matplotlib.legend.Legend at 0x7fec40b2ee10>"
      ]
     },
     "execution_count": 8,
     "metadata": {},
     "output_type": "execute_result"
    },
    {
     "data": {
      "image/png": "[encoded data removed]",
      "text/plain": [
       "<Figure size 288x144 with 1 Axes>"
      ]
     },
     "metadata": {},
     "output_type": "display_data"
    }
   ],
   "source": [
    "# Draw some data\n",
    "plt.figure(figsize=(4, 2))\n",
    "plt.plot(x, y, 'rx', ms=10, label='data')\n",
    "x_fit = np.linspace(0, 7)\n",
    "X1_fit = np.concatenate([np.array([x_fit**i]).T for i in range(2)], axis=1)\n",
    "X2_fit = np.concatenate([np.array([x_fit**i]).T for i in range(3)], axis=1)\n",
    "X4_fit = np.concatenate([np.array([x_fit**i]).T for i in range(5)], axis=1)\n",
    "y1 = X1_fit.dot(theta1)\n",
    "y2 = X2_fit.dot(theta2)\n",
    "y4 = X4_fit.dot(theta4)\n",
    "plt.plot(x_fit, y1, label='Polynomial degree 1')\n",
    "plt.plot(x_fit, y2, label='Polynomial degree 2')\n",
    "plt.plot(x_fit, y4, label='Polynomial degree 4')\n",
    "plt.tick_params(\n",
    "    axis='both',       # changes apply to the x-axis\n",
    "    which='both',      # both major and minor ticks are affected\n",
    "    bottom=False,      # ticks along the bottom edge are off\n",
    "    left=False,\n",
    "    labelleft=False,\n",
    "    labelbottom=False) # labels along the bottom edge are off\n",
    "plt.xlabel('$x$')\n",
    "plt.ylabel('$y$')\n",
    "plt.axis([0, 6, 0, 5])\n",
    "plt.legend(loc='upper left', bbox_to_anchor=(1.05, 1))"
   ]
  },
  {
   "cell_type": "markdown",
   "metadata": {},
   "source": [
    "- We can see that the linear hypothesis \"underfits\" the data (high bias):\n",
    "    $$\n",
    "    h^{1}_{\\theta}(x) = \\theta_0 + \\theta_1 x,\n",
    "    $$\n",
    "\n",
    "- The quadratic polynomial works pretty well:\n",
    "    $$\n",
    "    h^{2}_{\\theta}(x) = \\theta_0 + \\theta_1 x + \\theta_2 x^2,\n",
    "    $$\n",
    "\n",
    "- The 4th degree polynomial exactly fits all the points. It does a very good job fitting the training set, but the curve does not follow the trend at all. It \"overfits\" the data (high variance):\n",
    "    $$\n",
    "    h^{3}_{\\theta}(x) = \\theta_0 + \\theta_1 x + \\theta_2 x^2 + \\theta_3 x^3 + \\theta_4 x^4.\n",
    "    $$"
   ]
  },
  {
   "cell_type": "markdown",
   "metadata": {},
   "source": [
    "> **Overfitting**: If we have too many features, the learned hyplothesis may fit the training set very well, but will fail to generalize to new examples."
   ]
  },
  {
   "cell_type": "markdown",
   "metadata": {},
   "source": [
    "This phenomena also applies to the logistic regression algorithm."
   ]
  },
  {
   "cell_type": "markdown",
   "metadata": {},
   "source": [
    "### How can we address this problem?\n",
    "\n",
    "1. Reduce the number of features.\n",
    "   - Manually select which features to keep.\n",
    "   - Model selection algorithm.\n",
    "   \n",
    "2. Regularization.\n",
    "   - Keep all the features but reduce the magnitude of the parameters $\\theta_j$.\n",
    "   - Works well when we have a lot of features, each of which contributes a bit to predict $y$."
   ]
  },
  {
   "cell_type": "markdown",
   "metadata": {},
   "source": [
    "## 2. Cost Function\n",
    "\n",
    "Let's see the figures of the example above:"
   ]
  },
  {
   "cell_type": "code",
   "execution_count": 9,
   "metadata": {},
   "outputs": [
    {
     "data": {
      "text/plain": [
       "<matplotlib.legend.Legend at 0x7fec40a28b50>"
      ]
     },
     "execution_count": 9,
     "metadata": {},
     "output_type": "execute_result"
    },
    {
     "data": {
      "image/png": "[encoded data removed]",
      "text/plain": [
       "<Figure size 576x288 with 2 Axes>"
      ]
     },
     "metadata": {},
     "output_type": "display_data"
    }
   ],
   "source": [
    "# Draw some data\n",
    "x_fit = np.linspace(0, 7)\n",
    "X2_fit = np.concatenate([np.array([x_fit**i]).T for i in range(3)], axis=1)\n",
    "X4_fit = np.concatenate([np.array([x_fit**i]).T for i in range(5)], axis=1)\n",
    "y2 = X2_fit.dot(theta2)\n",
    "y4 = X4_fit.dot(theta4)\n",
    "\n",
    "plt.figure(figsize=(8, 4))\n",
    "plt.subplot(1, 2, 1)\n",
    "plt.plot(x, y, 'rx', ms=10, label='data')\n",
    "plt.plot(x_fit, y2, label='Polynomial degree 2')\n",
    "plt.tick_params(\n",
    "    axis='both',       # changes apply to the x-axis\n",
    "    which='both',      # both major and minor ticks are affected\n",
    "    bottom=False,      # ticks along the bottom edge are off\n",
    "    left=False,\n",
    "    labelleft=False,\n",
    "    labelbottom=False) # labels along the bottom edge are off\n",
    "plt.xlabel('$x$')\n",
    "plt.ylabel('$y$')\n",
    "plt.axis([0, 6, 0, 5])\n",
    "plt.legend(loc='best')\n",
    "plt.subplot(1, 2, 2)\n",
    "plt.plot(x, y, 'rx', ms=10, label='data')\n",
    "plt.plot(x_fit, y4, label='Polynomial degree 4')\n",
    "plt.tick_params(\n",
    "    axis='both',       # changes apply to the x-axis\n",
    "    which='both',      # both major and minor ticks are affected\n",
    "    bottom=False,      # ticks along the bottom edge are off\n",
    "    left=False,\n",
    "    labelleft=False,\n",
    "    labelbottom=False) # labels along the bottom edge are off\n",
    "plt.xlabel('$x$')\n",
    "plt.ylabel('$y$')\n",
    "plt.axis([0, 6, 0, 5])\n",
    "plt.legend(loc='best')"
   ]
  },
  {
   "cell_type": "markdown",
   "metadata": {},
   "source": [
    "Consider the following optimization problem:\n",
    "\n",
    "$$\n",
    "\\min_{\\boldsymbol{\\theta}} \\frac{1}{2m}\\left[\\sum_{i=1}^{m}(h_{\\theta}(\\boldsymbol{x}^{(i)}) - y^{i})^2 + \\lambda(\\theta_3^2 + \\theta_4^2)\\right]\n",
    "$$\n",
    "\n",
    "which intuitively attempts to solve for $\\boldsymbol{\\theta}$ such that:\n",
    "\n",
    "1. The hypothesis fits the data.\n",
    "2. The parameters $\\theta_3$ and $\\theta_4$ are small.\n",
    "\n",
    "In fact, if $\\lambda$ is big, $\\theta_3 \\approx \\theta_4 \\approx 0$, which approximately yields a quadratic function (which we know that correctly fits the data)."
   ]
  },
  {
   "cell_type": "markdown",
   "metadata": {},
   "source": [
    "Here, we penalized two of the parameters. \n",
    "\n",
    "In general, the idea of **regularization** is to have not too large values for the parameters $\\theta_i$, for $i\\in\\{1, 2, \\dots, n\\}$.\n",
    "\n",
    "This idea is carried out to:\n",
    "- Obtain simpler hypothesis.\n",
    "- Make the model less prone to overfitting."
   ]
  },
  {
   "cell_type": "markdown",
   "metadata": {},
   "source": [
    "## 3. Regularized Linear Regression"
   ]
  },
  {
   "cell_type": "markdown",
   "metadata": {},
   "source": [
    "In this sense, we can add an $L^2$ regularization term to the cost function for linear regression as follows:\n",
    "\n",
    "$$\n",
    "\\min_{\\boldsymbol{\\theta}} \\frac{1}{2m}\\left[\\sum_{i=1}^{m}(h_{\\theta}(\\boldsymbol{x}^{(i)}) - y^{i})^2 + \\lambda \\sum_{j=1}^{n}\\theta_j^2\\right].\n",
    "$$"
   ]
  },
  {
   "cell_type": "markdown",
   "metadata": {},
   "source": [
    "Or, equivalently \n",
    "\n",
    "$$\n",
    "\\min_{\\boldsymbol{\\theta}} \\frac{1}{2m}\\left[\\left\\lvert\\left\\lvert\\boldsymbol{X}\\boldsymbol{\\theta} - \\boldsymbol{y}\\right\\rvert\\right\\rvert^2 + \\lambda \\left\\lvert\\left\\lvert\\bar{\\boldsymbol{\\theta}}_{1}\\right\\rvert\\right\\rvert^2\\right],\n",
    "$$\n",
    "\n",
    "where\n",
    "\n",
    "$$\\bar{\\boldsymbol{\\theta}}_{1} = \\left[\\begin{array}{c}\n",
    "\\theta_1 \\\\\n",
    "\\vdots \\\\\n",
    "\\theta_n\n",
    "\\end{array}\\right] = \\left[\\begin{array}{cc}\n",
    "0 & \\boldsymbol{0}_{1\\times n} \\\\\n",
    "\\boldsymbol{0}_{n\\times 1} & \\boldsymbol{I}_{n \\times n}\\\\\n",
    "\\end{array}\\right] \\boldsymbol{\\theta} = \\boldsymbol{A} \\boldsymbol{\\theta}.$$"
   ]
  },
  {
   "cell_type": "markdown",
   "metadata": {},
   "source": [
    "In this sense, the above objective function could be rewritten as:\n",
    "\n",
    "$$\n",
    "\\min_{\\boldsymbol{\\theta}} \\frac{1}{2m}\\left\\lvert\\left\\lvert\\tilde{\\boldsymbol{X}}\\boldsymbol{\\theta} - \\tilde{\\boldsymbol{y}}\\right\\rvert\\right\\rvert^2,\n",
    "$$\n",
    "\n",
    "where \n",
    "\n",
    "$$\n",
    "\\tilde{\\boldsymbol{X}} = \\left[\\begin{array}{c}\n",
    "\\boldsymbol{X} \\\\\n",
    "\\sqrt{\\lambda}\\boldsymbol{A}\n",
    "\\end{array}\\right],\n",
    "$$\n",
    "\n",
    "and\n",
    "\n",
    "$$\n",
    "\\tilde{\\boldsymbol{y}} = \\left[\\begin{array}{c}\n",
    "\\boldsymbol{y} \\\\\n",
    "\\boldsymbol{0}_{(n+1) \\times 1}\n",
    "\\end{array}\\right].\n",
    "$$"
   ]
  },
  {
   "cell_type": "markdown",
   "metadata": {},
   "source": [
    "Thus, the global minimizer for the regularized objective in linear regression yields:\n",
    "\n",
    "$$\n",
    "\\boldsymbol{\\theta} = (\\tilde{\\boldsymbol{X}}^T\\tilde{\\boldsymbol{X}})^{-1}\\tilde{\\boldsymbol{X}}^T \\tilde{\\boldsymbol{y}}= (\\boldsymbol{X}^T\\boldsymbol{X} + \\lambda A)^{-1}\\boldsymbol{X}^T \\boldsymbol{y}\n",
    "$$ "
   ]
  },
  {
   "cell_type": "raw",
   "metadata": {},
   "source": [
    "For the example above:"
   ]
  },
  {
   "cell_type": "code",
   "execution_count": 29,
   "metadata": {},
   "outputs": [
    {
     "data": {
      "text/plain": [
       "array([ 0.39693095,  0.44421803,  0.61098893, -0.16216692,  0.01018527])"
      ]
     },
     "execution_count": 29,
     "metadata": {},
     "output_type": "execute_result"
    }
   ],
   "source": [
    "l = 0.3\n",
    "A = np.block([[np.zeros((1, 1)), np.zeros((1, 4))],\n",
    "              [np.zeros((4, 1)), np.eye(4)]])\n",
    "theta4_reg = np.linalg.solve(X4.T.dot(X4) + l * A, X4.T.dot(y))\n",
    "theta4_reg"
   ]
  },
  {
   "cell_type": "code",
   "execution_count": 30,
   "metadata": {},
   "outputs": [
    {
     "data": {
      "text/plain": [
       "array([ 2.21428572, -5.53571429,  6.05952381, -1.92857143,  0.19047619])"
      ]
     },
     "execution_count": 30,
     "metadata": {},
     "output_type": "execute_result"
    }
   ],
   "source": [
    "theta4"
   ]
  },
  {
   "cell_type": "code",
   "execution_count": 31,
   "metadata": {},
   "outputs": [
    {
     "data": {
      "text/plain": [
       "<matplotlib.legend.Legend at 0x7fec404eca50>"
      ]
     },
     "execution_count": 31,
     "metadata": {},
     "output_type": "execute_result"
    },
    {
     "data": {
      "image/png": "[encoded data removed]",
      "text/plain": [
       "<Figure size 576x288 with 2 Axes>"
      ]
     },
     "metadata": {},
     "output_type": "display_data"
    }
   ],
   "source": [
    "# Draw some data\n",
    "x_fit = np.linspace(0, 7)\n",
    "X2_fit = np.concatenate([np.array([x_fit**i]).T for i in range(3)], axis=1)\n",
    "X4_fit = np.concatenate([np.array([x_fit**i]).T for i in range(5)], axis=1)\n",
    "y2 = X2_fit.dot(theta2)\n",
    "y4 = X4_fit.dot(theta4_reg)\n",
    "\n",
    "plt.figure(figsize=(8, 4))\n",
    "plt.subplot(1, 2, 1)\n",
    "plt.plot(x, y, 'rx', ms=10, label='data')\n",
    "plt.plot(x_fit, y2, label='Polynomial degree 2')\n",
    "plt.tick_params(\n",
    "    axis='both',       # changes apply to the x-axis\n",
    "    which='both',      # both major and minor ticks are affected\n",
    "    bottom=False,      # ticks along the bottom edge are off\n",
    "    left=False,\n",
    "    labelleft=False,\n",
    "    labelbottom=False) # labels along the bottom edge are off\n",
    "plt.xlabel('$x$')\n",
    "plt.ylabel('$y$')\n",
    "plt.axis([0, 6, 0, 5])\n",
    "plt.legend(loc='best')\n",
    "plt.subplot(1, 2, 2)\n",
    "plt.plot(x, y, 'rx', ms=10, label='data')\n",
    "plt.plot(x_fit, y4, label='Polynomial degree 4')\n",
    "plt.tick_params(\n",
    "    axis='both',       # changes apply to the x-axis\n",
    "    which='both',      # both major and minor ticks are affected\n",
    "    bottom=False,      # ticks along the bottom edge are off\n",
    "    left=False,\n",
    "    labelleft=False,\n",
    "    labelbottom=False) # labels along the bottom edge are off\n",
    "plt.xlabel('$x$')\n",
    "plt.ylabel('$y$')\n",
    "plt.axis([0, 6, 0, 5])\n",
    "plt.legend(loc='best')"
   ]
  },
  {
   "cell_type": "markdown",
   "metadata": {},
   "source": [
    "As we can see, the overfitting phenomena is attenuated."
   ]
  },
  {
   "cell_type": "markdown",
   "metadata": {},
   "source": [
    "### How does the regularization looks like in the gradient descent algorithm?"
   ]
  },
  {
   "cell_type": "markdown",
   "metadata": {},
   "source": [
    "We have that the regularized cost for linear regression is:\n",
    "\n",
    "$$\n",
    "J(\\boldsymbol{\\theta}) = \\frac{1}{2m}\\left[\\left\\lvert\\left\\lvert\\boldsymbol{X}\\boldsymbol{\\theta} - \\boldsymbol{y}\\right\\rvert\\right\\rvert^2 + \\lambda \\left\\lvert\\left\\lvert \\boldsymbol{A}\\boldsymbol{\\theta}\\right\\rvert\\right\\rvert^2\\right],\n",
    "$$\n",
    "\n",
    "This implies that:\n",
    "\n",
    "$$\n",
    "\\frac{\\partial}{\\partial \\boldsymbol{\\theta}} J(\\boldsymbol{\\theta}) = \\frac{1}{m} \\boldsymbol{X}^T (\\boldsymbol{X}\\boldsymbol{\\theta} - \\boldsymbol{y}) + \\frac{\\lambda}{m}A^T A\\boldsymbol{\\theta} = \\frac{1}{m} \\boldsymbol{X}^T (\\boldsymbol{X}\\boldsymbol{\\theta} - \\boldsymbol{y}) + \\frac{\\lambda}{m}A\\boldsymbol{\\theta}.\n",
    "$$"
   ]
  },
  {
   "cell_type": "markdown",
   "metadata": {},
   "source": [
    "Thus, the gradient descent algorithm would take the form:\n",
    "\n",
    "- Initialize $\\boldsymbol{\\theta}$.\n",
    "\n",
    "- repeat until convergence {\n",
    "  $$\\boldsymbol{\\theta} := \\boldsymbol{\\theta} - \\alpha\\left[ \\frac{1}{m} \\boldsymbol{X}^T (\\boldsymbol{X}\\boldsymbol{\\theta} - \\boldsymbol{y}) + \\frac{\\lambda}{m}A\\boldsymbol{\\theta}\\right] = \\left(\\boldsymbol{I}_{(n+1) \\times (n+1)} - \\alpha\\frac{\\lambda}{m}A\\right) \\boldsymbol{\\theta} - \\alpha\\frac{1}{m} \\boldsymbol{X}^T (\\boldsymbol{X}\\boldsymbol{\\theta} - \\boldsymbol{y})$$\n",
    "  }"
   ]
  },
  {
   "cell_type": "markdown",
   "metadata": {},
   "source": [
    "Note that the terms $1 - \\alpha\\frac{\\lambda}{m} < 1$."
   ]
  },
  {
   "cell_type": "markdown",
   "metadata": {},
   "source": [
    "The same ideas apply for logistic regression. Please see the next notebook for concrete visualizations on this."
   ]
  },
  {
   "cell_type": "markdown",
   "metadata": {},
   "source": [
    "<script>\n",
    "  $(document).ready(function(){\n",
    "    $('div.prompt').hide();\n",
    "    $('div.back-to-top').hide();\n",
    "    $('nav#menubar').hide();\n",
    "    $('.breadcrumb').hide();\n",
    "    $('.hidden-print').hide();\n",
    "  });\n",
    "</script>\n",
    "\n",
    "<footer id=\"attribution\" style=\"float:right; color:#808080; background:#fff;\">\n",
    "Created with Jupyter by Esteban Jiménez Rodríguez. Based on the content of the Machine Learning course offered through coursera by Prof. Andrew Ng.\n",
    "</footer>"
   ]
  }
 ],
 "metadata": {
  "kernelspec": {
   "display_name": "Python 3",
   "language": "python",
   "name": "python3"
  },
  "language_info": {
   "codemirror_mode": {
    "name": "ipython",
    "version": 3
   },
   "file_extension": ".py",
   "mimetype": "text/x-python",
   "name": "python",
   "nbconvert_exporter": "python",
   "pygments_lexer": "ipython3",
   "version": "3.7.6"
  }
 },
 "nbformat": 4,
 "nbformat_minor": 4
}
