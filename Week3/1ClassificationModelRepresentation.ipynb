{
 "cells": [
  {
   "cell_type": "markdown",
   "metadata": {},
   "source": [
    "# Classification and Model Representation"
   ]
  },
  {
   "cell_type": "markdown",
   "metadata": {},
   "source": [
    "## 1. Classification problems\n",
    "\n",
    "In contrast to regression problems, the output $y$ is discrete-valued.\n",
    "\n",
    "Some examples are:\n",
    "\n",
    "- Email: Spam / Not Spam?\n",
    "- Online Transactions: Fraudulent (Yes / No)?\n",
    "- Tumor: Malignant / Benign?\n",
    "\n",
    "In all these problems we can associate a variable\n",
    "\n",
    "$$\n",
    "y \\in \\{0, 1\\}\n",
    "$$\n",
    "\n",
    "where $0$ represents the *Negative Class* and $1$ stands for the *Positive Class*."
   ]
  },
  {
   "cell_type": "markdown",
   "metadata": {},
   "source": [
    "The type of classification problems where the output is binary is called **binary classification problems**, whereas the problems where the output may take more than two values are called **multiclass classification problems**."
   ]
  },
  {
   "cell_type": "markdown",
   "metadata": {},
   "source": [
    "What if we try to address this problem using linear regression?"
   ]
  },
  {
   "cell_type": "code",
   "execution_count": 1,
   "metadata": {},
   "outputs": [],
   "source": [
    "# Import libraries\n",
    "from matplotlib import pyplot as plt\n",
    "import numpy as np\n",
    "%matplotlib inline"
   ]
  },
  {
   "cell_type": "code",
   "execution_count": 2,
   "metadata": {},
   "outputs": [
    {
     "data": {
      "text/plain": [
       "<matplotlib.legend.Legend at 0x7f413cf3ea90>"
      ]
     },
     "execution_count": 2,
     "metadata": {},
     "output_type": "execute_result"
    },
    {
     "data": {
      "image/png": "[encoded data removed]",
      "text/plain": [
       "<Figure size 288x144 with 1 Axes>"
      ]
     },
     "metadata": {
      "needs_background": "light"
     },
     "output_type": "display_data"
    }
   ],
   "source": [
    "# Draw cancer data\n",
    "plt.figure(figsize=(4, 2))\n",
    "x_b = np.array([1, 2, 3, 4])\n",
    "x_m = np.array([5, 6, 7, 8])\n",
    "y_b = np.array([0, 0, 0, 0])\n",
    "y_m = np.array([1, 1, 1, 1])\n",
    "plt.plot(x_b, y_b, 'rx', ms=10)\n",
    "plt.plot(x_m, y_m, 'rx', ms=10)\n",
    "plt.tick_params(\n",
    "    axis='x',          # changes apply to the x-axis\n",
    "    which='both',      # both major and minor ticks are affected\n",
    "    bottom=False,      # ticks along the bottom edge are off\n",
    "    top=False,         # ticks along the top edge are off\n",
    "    labelbottom=False) # labels along the bottom edge are off\n",
    "x_fit1 = np.linspace(0, 8)\n",
    "y_fit1 = 0.25 * (x_fit1 - 2.5)\n",
    "plt.plot(x_fit1, y_fit1, label='Linear regression')\n",
    "plt.yticks([0, 1], ['0(N)', '1(Y)'])\n",
    "plt.axhline(y=0, c='g', lw=2)\n",
    "plt.axvline(x=0, c='g', lw=2)\n",
    "plt.axis([-1, 10, -1, 3])\n",
    "plt.xlabel('Tumor Size')\n",
    "plt.ylabel('Malignant?')\n",
    "plt.legend(loc='best')"
   ]
  },
  {
   "cell_type": "markdown",
   "metadata": {},
   "source": [
    "1. We know that the hypothesis $h_{\\theta}(x)$ takes values below $0$ and above $1$.\n",
    "2. We could propose that:\n",
    "   - If $h_{\\theta}(x) \\geq 0.5$, then predict $y = 1$.\n",
    "   - If $h_{\\theta}(x) < 0.5$, then predict $y = 0$.\n",
    "   \n",
    "In this case, all seems ok:"
   ]
  },
  {
   "cell_type": "code",
   "execution_count": 3,
   "metadata": {},
   "outputs": [
    {
     "data": {
      "text/plain": [
       "<matplotlib.legend.Legend at 0x7f413ce64c10>"
      ]
     },
     "execution_count": 3,
     "metadata": {},
     "output_type": "execute_result"
    },
    {
     "data": {
      "image/png": "[encoded data removed]",
      "text/plain": [
       "<Figure size 288x144 with 1 Axes>"
      ]
     },
     "metadata": {
      "needs_background": "light"
     },
     "output_type": "display_data"
    }
   ],
   "source": [
    "# Draw cancer data\n",
    "plt.figure(figsize=(4, 2))\n",
    "x_b = np.array([1, 2, 3, 4])\n",
    "x_m = np.array([5, 6, 7, 8])\n",
    "y_b = np.array([0, 0, 0, 0])\n",
    "y_m = np.array([1, 1, 1, 1])\n",
    "plt.plot(x_b, y_b, 'rx', ms=10)\n",
    "plt.plot(x_m, y_m, 'rx', ms=10)\n",
    "plt.tick_params(\n",
    "    axis='x',          # changes apply to the x-axis\n",
    "    which='both',      # both major and minor ticks are affected\n",
    "    bottom=False,      # ticks along the bottom edge are off\n",
    "    top=False,         # ticks along the top edge are off\n",
    "    labelbottom=False) # labels along the bottom edge are off\n",
    "x_fit1 = np.linspace(0, 8)\n",
    "y_fit1 = 0.25 * (x_fit1 - 2.5)\n",
    "plt.plot(x_fit1, y_fit1, label='Linear regression')\n",
    "plt.yticks([0, 1], ['0(N)', '1(Y)'])\n",
    "plt.axhline(y=0, c='g', lw=2)\n",
    "plt.axvline(x=0, c='g', lw=2)\n",
    "plt.axvline(x=4.5, c='k', ls='--', label='Decision boundary')\n",
    "plt.axhline(y=0.5, c='y', ls='--', label='$y=0.5$')\n",
    "plt.axis([-1, 10, -1, 3])\n",
    "plt.xlabel('Tumor Size')\n",
    "plt.ylabel('Malignant?')\n",
    "plt.legend(loc='best')"
   ]
  },
  {
   "cell_type": "markdown",
   "metadata": {},
   "source": [
    "However, if we have some outlier training example:"
   ]
  },
  {
   "cell_type": "code",
   "execution_count": 4,
   "metadata": {},
   "outputs": [
    {
     "data": {
      "text/plain": [
       "<matplotlib.legend.Legend at 0x7f413cd68bd0>"
      ]
     },
     "execution_count": 4,
     "metadata": {},
     "output_type": "execute_result"
    },
    {
     "data": {
      "image/png": "[encoded data removed]",
      "text/plain": [
       "<Figure size 288x144 with 1 Axes>"
      ]
     },
     "metadata": {
      "needs_background": "light"
     },
     "output_type": "display_data"
    }
   ],
   "source": [
    "# Draw cancer data\n",
    "plt.figure(figsize=(4, 2))\n",
    "x_b = np.array([1, 2, 3, 4])\n",
    "x_m = np.array([5, 6, 7, 8, 15])\n",
    "y_b = np.array([0, 0, 0, 0])\n",
    "y_m = np.array([1, 1, 1, 1, 1])\n",
    "plt.plot(x_b, y_b, 'rx', ms=10)\n",
    "plt.plot(x_m, y_m, 'rx', ms=10)\n",
    "plt.tick_params(\n",
    "    axis='x',          # changes apply to the x-axis\n",
    "    which='both',      # both major and minor ticks are affected\n",
    "    bottom=False,      # ticks along the bottom edge are off\n",
    "    top=False,         # ticks along the top edge are off\n",
    "    labelbottom=False) # labels along the bottom edge are off\n",
    "x_fit1 = np.linspace(0, 16)\n",
    "y_fit1 = 0.1 * (x_fit1 - 2.5)\n",
    "plt.plot(x_fit1, y_fit1, label='Linear regression')\n",
    "plt.yticks([0, 1], ['0(N)', '1(Y)'])\n",
    "plt.axhline(y=0, c='g', lw=2)\n",
    "plt.axvline(x=0, c='g', lw=2)\n",
    "plt.axvline(x=7.5, c='k', ls='--', label='Decision boundary')\n",
    "plt.axhline(y=0.5, c='y', ls='--', label='$y=0.5$')\n",
    "plt.axis([-1, 18, -1, 3])\n",
    "plt.xlabel('Tumor Size')\n",
    "plt.ylabel('Malignant?')\n",
    "plt.legend(loc='best')"
   ]
  },
  {
   "cell_type": "markdown",
   "metadata": {},
   "source": [
    "The classifier performance turns out to be really bad.\n",
    "\n",
    "Then, we should think of a hypothesis that satisfies $0 \\leq h_{\\theta}(\\boldsymbol{x}) \\leq 1$."
   ]
  },
  {
   "cell_type": "markdown",
   "metadata": {},
   "source": [
    "## 2. Hypothesis Representation"
   ]
  },
  {
   "cell_type": "markdown",
   "metadata": {},
   "source": [
    "Then we want a hypothesis such that $0 \\leq h_{\\theta}(\\boldsymbol{x}) \\leq 1$.\n",
    "\n",
    "We're going to modify the linear regression hypothesis a bit to come up with the **logistic regression** hypothesis:\n",
    "\n",
    "$$\n",
    "h_{\\theta}(\\boldsymbol{x}) = g(\\boldsymbol{\\theta}^T\\boldsymbol{x}),\n",
    "$$\n",
    "\n",
    "where\n",
    "\n",
    "$$\n",
    "g(z) = \\frac{1}{1 + e^{-z}},\n",
    "$$\n",
    "\n",
    "and $g(\\cdot):\\mathbb{R} \\to (0, 1)$ is called a **Sigmoid function**."
   ]
  },
  {
   "cell_type": "markdown",
   "metadata": {},
   "source": [
    "How does $g$ look like?"
   ]
  },
  {
   "cell_type": "code",
   "execution_count": 5,
   "metadata": {},
   "outputs": [
    {
     "data": {
      "image/png": "[encoded data removed]",
      "text/plain": [
       "<Figure size 432x288 with 1 Axes>"
      ]
     },
     "metadata": {
      "needs_background": "light"
     },
     "output_type": "display_data"
    }
   ],
   "source": [
    "plt.figure(figsize=(6, 4))\n",
    "z = np.linspace(-10, 10)\n",
    "g = 1 / (1 + np.exp(-z))\n",
    "plt.plot(z, g, 'r', lw=2)\n",
    "plt.xlabel('$z$')\n",
    "plt.ylabel(r'$g(z)=\\frac{1}{1+e^{-z}}$')\n",
    "plt.grid()"
   ]
  },
  {
   "cell_type": "markdown",
   "metadata": {},
   "source": [
    "Given this representation, we interpret $h_{\\theta}(\\boldsymbol{x})$ as the estimated probability that $y=1$ given the input $\\boldsymbol{x}$. This is:\n",
    "\n",
    "$h_{\\theta}(\\boldsymbol{x}) = \\hat{P}(y=1|\\boldsymbol{x};\\boldsymbol{\\theta}).$"
   ]
  },
  {
   "cell_type": "markdown",
   "metadata": {},
   "source": [
    "## 3. Decision boundary\n",
    "\n",
    "Recall the logistic regression hypothesis is:\n",
    "\n",
    "$$\n",
    "h_{\\theta}(\\boldsymbol{x}) = g(\\boldsymbol{\\theta}^T\\boldsymbol{x}),\n",
    "$$\n",
    "\n",
    "where\n",
    "\n",
    "$$\n",
    "g(z) = \\frac{1}{1 + e^{-z}},\n",
    "$$\n",
    "\n",
    "Even now that we have $0 \\leq h_{\\theta}(\\boldsymbol{x}) \\leq 1$, we must be able to predict either $y = 1$ or $y=0$."
   ]
  },
  {
   "cell_type": "markdown",
   "metadata": {},
   "source": [
    "Based on our interpretation of $h_{\\theta}$, it is reasonable to predict $y=1$ if $h_{\\theta}(\\boldsymbol{x}) \\geq 0.5$.\n",
    "\n",
    "Looking at the plot of the sigmoid function, $g(z) \\geq 0.5$ when $z \\geq 0$. Thus, we will predict $y = 1$ when\n",
    "\n",
    "$$\n",
    "\\boldsymbol{\\theta}^T \\boldsymbol{x} \\geq 0.\n",
    "$$\n",
    "\n",
    "Conversely, we will predict $y = 0$ if $h_{\\theta}(\\boldsymbol{x}) < 0.5$, this is:\n",
    "\n",
    "$$\n",
    "\\boldsymbol{\\theta}^T \\boldsymbol{x} < 0.\n",
    "$$"
   ]
  },
  {
   "cell_type": "markdown",
   "metadata": {},
   "source": [
    "For example, let's consider the following set of points:"
   ]
  },
  {
   "cell_type": "code",
   "execution_count": 6,
   "metadata": {},
   "outputs": [
    {
     "data": {
      "text/plain": [
       "[-0.5, 4, -0.5, 4]"
      ]
     },
     "execution_count": 6,
     "metadata": {},
     "output_type": "execute_result"
    },
    {
     "data": {
      "image/png": "[encoded data removed]",
      "text/plain": [
       "<Figure size 288x288 with 1 Axes>"
      ]
     },
     "metadata": {
      "needs_background": "light"
     },
     "output_type": "display_data"
    }
   ],
   "source": [
    "# Draw linearly separable data\n",
    "plt.figure(figsize=(4, 4))\n",
    "x_b = np.array([[1.5, 1.8, 2.0, 2.2, 2.5, 2.7, 2.7, 3.0, 3.0, 3.3],\n",
    "                [3.1, 3.2, 2.8, 2.2, 3.2, 1.7, 3.0, 2.2, 1.2, 1.8]]).T\n",
    "x_m = np.array([[0.2, 0.2, 0.2, 0.5, 1.0, 1.1, 1.5, 1.9],\n",
    "                [2.2, 1.6, 0.5, 1.0, 0.6, 1.4, 0.8, 0.1]]).T\n",
    "plt.plot(x_b[:, 0], x_b[:, 1], 'rx', ms=10)\n",
    "plt.plot(x_m[:, 0], x_m[:, 1], 'bo', ms=10)\n",
    "x_fit1 = np.linspace(0, 16)\n",
    "y_fit1 = 0.1 * (x_fit1 - 2.5)\n",
    "plt.yticks([1, 2, 3])\n",
    "plt.xticks([1, 2, 3])\n",
    "plt.axhline(y=0, c='g', lw=2)\n",
    "plt.axvline(x=0, c='g', lw=2)\n",
    "plt.xlabel('$x_1$')\n",
    "plt.ylabel('$x_2$')\n",
    "plt.axis([-0.5, 4, -0.5, 4])"
   ]
  },
  {
   "cell_type": "markdown",
   "metadata": {},
   "source": [
    "For this example, we may set the following hypothesis function:\n",
    "\n",
    "$$\n",
    "h_{\\theta}(\\boldsymbol{x}) = g(\\theta_0 + \\theta_1 x_1 + \\theta_2 x_2),\n",
    "$$\n",
    "\n",
    "which after some procedure for fitting the parameter values, we get $\\theta_0=-3$, $\\theta_1=\\theta_2=1$."
   ]
  },
  {
   "cell_type": "markdown",
   "metadata": {},
   "source": [
    "Then, we will predict $y=1$ if \n",
    "\n",
    "$$\n",
    "-3 + x_1 + x_2 \\geq 0 \\Leftrightarrow x_1+x_2 \\geq 3,\n",
    "$$\n",
    "\n",
    "and $y=0$ if\n",
    "\n",
    "$$\n",
    "x_1 + x_2 < 3.\n",
    "$$"
   ]
  },
  {
   "cell_type": "markdown",
   "metadata": {},
   "source": [
    "Thus, the line $x_1 + x_2 = 3$ is called the **decision boundary**, and separates the points which will be predicted as $y=1$ and those which will be predicted as $y=0$."
   ]
  },
  {
   "cell_type": "code",
   "execution_count": 7,
   "metadata": {},
   "outputs": [
    {
     "data": {
      "text/plain": [
       "[-0.5, 4, -0.5, 4]"
      ]
     },
     "execution_count": 7,
     "metadata": {},
     "output_type": "execute_result"
    },
    {
     "data": {
      "image/png": "[encoded data removed]",
      "text/plain": [
       "<Figure size 288x288 with 1 Axes>"
      ]
     },
     "metadata": {
      "needs_background": "light"
     },
     "output_type": "display_data"
    }
   ],
   "source": [
    "# Draw linearly separable data\n",
    "plt.figure(figsize=(4, 4))\n",
    "x_b = np.array([[1.5, 1.8, 2.0, 2.2, 2.5, 2.7, 2.7, 3.0, 3.0, 3.3],\n",
    "                [3.1, 3.2, 2.8, 2.2, 3.2, 1.7, 3.0, 2.2, 1.2, 1.8]]).T\n",
    "x_m = np.array([[0.2, 0.2, 0.2, 0.5, 1.0, 1.1, 1.5, 1.9],\n",
    "                [2.2, 1.6, 0.5, 1.0, 0.6, 1.4, 0.8, 0.1]]).T\n",
    "plt.plot(x_b[:, 0], x_b[:, 1], 'rx', ms=10)\n",
    "plt.plot(x_m[:, 0], x_m[:, 1], 'bo', ms=10)\n",
    "x_fit1 = np.linspace(-1, 4)\n",
    "y_fit1 = -x_fit1 + 3\n",
    "plt.plot(x_fit1, y_fit1, 'k--', lw=2, label='Decision boundary')\n",
    "plt.yticks([1, 2, 3])\n",
    "plt.xticks([1, 2, 3])\n",
    "plt.axhline(y=0, c='g', lw=2)\n",
    "plt.axvline(x=0, c='g', lw=2)\n",
    "plt.xlabel('$x_1$')\n",
    "plt.ylabel('$x_2$')\n",
    "plt.legend(loc='best')\n",
    "plt.axis([-0.5, 4, -0.5, 4])"
   ]
  },
  {
   "cell_type": "markdown",
   "metadata": {},
   "source": [
    "The decision boundary has not to be linear. For instance, consider the following training set"
   ]
  },
  {
   "cell_type": "code",
   "execution_count": 11,
   "metadata": {},
   "outputs": [
    {
     "data": {
      "text/plain": [
       "[-3, 3, -3, 3]"
      ]
     },
     "execution_count": 11,
     "metadata": {},
     "output_type": "execute_result"
    },
    {
     "data": {
      "image/png": "[encoded data removed]",
      "text/plain": [
       "<Figure size 288x288 with 1 Axes>"
      ]
     },
     "metadata": {
      "needs_background": "light"
     },
     "output_type": "display_data"
    }
   ],
   "source": [
    "# Draw non-linearly separable data\n",
    "plt.figure(figsize=(4, 4))\n",
    "t = np.linspace(0, 2 * np.pi, 13)\n",
    "x_b = 2 * np.array([np.sin(t), np.cos(t)]).T\n",
    "x_m = (np.random.rand(2, 13) * np.array([np.sin(t), np.cos(t)])).T\n",
    "plt.plot(x_b[:, 0], x_b[:, 1], 'rx', ms=10)\n",
    "plt.plot(x_m[:, 0], x_m[:, 1], 'bo', ms=10)\n",
    "plt.axhline(y=0, c='g', lw=2)\n",
    "plt.axvline(x=0, c='g', lw=2)\n",
    "plt.xlabel('$x_1$')\n",
    "plt.ylabel('$x_2$')\n",
    "plt.axis([-3, 3, -3, 3])"
   ]
  },
  {
   "cell_type": "markdown",
   "metadata": {},
   "source": [
    "and set the hypothesis function \n",
    "\n",
    "$$\n",
    "h_{\\theta}(\\boldsymbol{x}) = g(\\theta_0 + \\theta_1 x_1 + \\theta_2 x_2 + \\theta_3 x_1^2 + \\theta_4 x_1x_2 + \\theta_5 x_2^2),\n",
    "$$\n",
    "\n",
    "which after some procedure for fitting the parameter values, we get $\\theta_0=1$, $\\theta_1=\\theta_2=\\theta_4=0$, and $\\theta_3 = \\theta_5 = 1$.\n",
    "\n",
    "Then, the decision boundary looks like:"
   ]
  },
  {
   "cell_type": "code",
   "execution_count": 10,
   "metadata": {},
   "outputs": [
    {
     "data": {
      "text/plain": [
       "[-3, 3, -3, 3]"
      ]
     },
     "execution_count": 10,
     "metadata": {},
     "output_type": "execute_result"
    },
    {
     "data": {
      "image/png": "[encoded data removed]",
      "text/plain": [
       "<Figure size 288x288 with 1 Axes>"
      ]
     },
     "metadata": {
      "needs_background": "light"
     },
     "output_type": "display_data"
    }
   ],
   "source": [
    "# Draw linearly separable data\n",
    "plt.figure(figsize=(4, 4))\n",
    "t = np.linspace(0, 2 * np.pi, 13)\n",
    "x_b = 2 * np.array([np.sin(t), np.cos(t)]).T\n",
    "x_m = (np.random.rand(2, 13) * np.array([np.sin(t), np.cos(t)])).T\n",
    "plt.plot(x_b[:, 0], x_b[:, 1], 'rx', ms=10)\n",
    "plt.plot(x_m[:, 0], x_m[:, 1], 'bo', ms=10)\n",
    "t2 = np.linspace(0, 2 * np.pi)\n",
    "db = np.array([np.sin(t2), np.cos(t2)]).T\n",
    "plt.plot(db[:, 0], db[:, 1], 'k--', lw=2, label='Decision boundary')\n",
    "plt.axhline(y=0, c='g', lw=2)\n",
    "plt.axvline(x=0, c='g', lw=2)\n",
    "plt.xlabel('$x_1$')\n",
    "plt.ylabel('$x_2$')\n",
    "plt.axis([-3, 3, -3, 3])"
   ]
  },
  {
   "cell_type": "markdown",
   "metadata": {},
   "source": [
    "<script>\n",
    "  $(document).ready(function(){\n",
    "    $('div.prompt').hide();\n",
    "    $('div.back-to-top').hide();\n",
    "    $('nav#menubar').hide();\n",
    "    $('.breadcrumb').hide();\n",
    "    $('.hidden-print').hide();\n",
    "  });\n",
    "</script>\n",
    "\n",
    "<footer id=\"attribution\" style=\"float:right; color:#808080; background:#fff;\">\n",
    "Created with Jupyter by Esteban Jiménez Rodríguez. Based on the content of the Machine Learning course offered through coursera by Prof. Andrew Ng.\n",
    "</footer>"
   ]
  }
 ],
 "metadata": {
  "kernelspec": {
   "display_name": "Python 3",
   "language": "python",
   "name": "python3"
  },
  "language_info": {
   "codemirror_mode": {
    "name": "ipython",
    "version": 3
   },
   "file_extension": ".py",
   "mimetype": "text/x-python",
   "name": "python",
   "nbconvert_exporter": "python",
   "pygments_lexer": "ipython3",
   "version": "3.7.6"
  }
 },
 "nbformat": 4,
 "nbformat_minor": 4
}
